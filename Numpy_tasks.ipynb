{
  "cells": [
    {
      "cell_type": "markdown",
      "metadata": {
        "id": "view-in-github",
        "colab_type": "text"
      },
      "source": [
        "<a href=\"https://colab.research.google.com/github/ahamedalshafath/assignment-task-1/blob/main/Numpy_tasks.ipynb\" target=\"_parent\"><img src=\"https://colab.research.google.com/assets/colab-badge.svg\" alt=\"Open In Colab\"/></a>"
      ]
    },
    {
      "cell_type": "markdown",
      "metadata": {
        "id": "G2dnbI6PL37z"
      },
      "source": [
        "# Numpy\n",
        "\n"
      ]
    },
    {
      "cell_type": "markdown",
      "source": [],
      "metadata": {
        "id": "ZjZ9k48cH3rl"
      }
    },
    {
      "cell_type": "markdown",
      "metadata": {
        "id": "ckTl2KwrL377"
      },
      "source": [
        "#### 1. Import the numpy package under the name `np` (★☆☆) \n",
        "(**hint**: import … as …)"
      ]
    },
    {
      "cell_type": "code",
      "execution_count": null,
      "metadata": {
        "collapsed": true,
        "id": "T_0HyQ5RL38P"
      },
      "outputs": [],
      "source": [
        "import numpy as np"
      ]
    },
    {
      "cell_type": "markdown",
      "metadata": {
        "id": "S3kJrKNkL38S"
      },
      "source": [
        "#### 2. Print the numpy version and the configuration (★☆☆) \n",
        "(**hint**: np.\\_\\_version\\_\\_, np.show\\_config)"
      ]
    },
    {
      "cell_type": "code",
      "execution_count": null,
      "metadata": {
        "id": "-M8kfWybL38T"
      },
      "outputs": [],
      "source": [
        "print(np.version.version)\n",
        "print(np.show_config())"
      ]
    },
    {
      "cell_type": "markdown",
      "metadata": {
        "id": "I15llubqL38U"
      },
      "source": [
        "#### 3. Create a null vector of size 10 (★☆☆) \n",
        "(**hint**: np.zeros)"
      ]
    },
    {
      "cell_type": "code",
      "execution_count": null,
      "metadata": {
        "colab": {
          "base_uri": "https://localhost:8080/"
        },
        "id": "d_EXEJq4L38U",
        "outputId": "eed31b50-9cc6-465d-8147-d56b5fd888a5"
      },
      "outputs": [
        {
          "output_type": "execute_result",
          "data": {
            "text/plain": [
              "array([0., 0., 0., 0., 0., 0., 0., 0., 0., 0.])"
            ]
          },
          "metadata": {},
          "execution_count": 3
        }
      ],
      "source": [
        "a=np.zeros(10)\n",
        "a"
      ]
    },
    {
      "cell_type": "markdown",
      "metadata": {
        "id": "cNRgb38wL38V"
      },
      "source": [
        "#### 4.  How to find the memory size of any array (★☆☆) \n",
        "(**hint**: size, itemsize)"
      ]
    },
    {
      "cell_type": "code",
      "execution_count": null,
      "metadata": {
        "colab": {
          "base_uri": "https://localhost:8080/"
        },
        "id": "6L8vWGsFL38W",
        "outputId": "8919e3a5-d306-4119-b661-96bc2dbbd957"
      },
      "outputs": [
        {
          "output_type": "stream",
          "name": "stdout",
          "text": [
            "80 bytes\n"
          ]
        }
      ],
      "source": [
        "a.size\n",
        "a.itemsize\n",
        "print('%d bytes'% (a.size * a.itemsize))"
      ]
    },
    {
      "cell_type": "markdown",
      "metadata": {
        "id": "ZlC6bSgcL38X"
      },
      "source": [
        "#### 5.  How to get the documentation of the numpy add function from the command line? (★☆☆) \n",
        "(**hint**: np.info)"
      ]
    },
    {
      "cell_type": "code",
      "execution_count": null,
      "metadata": {
        "collapsed": true,
        "colab": {
          "base_uri": "https://localhost:8080/"
        },
        "id": "nc8b5crjL38X",
        "outputId": "c4d369bf-0b23-40ec-d02d-b943e7121b6a"
      },
      "outputs": [
        {
          "output_type": "stream",
          "name": "stdout",
          "text": [
            "add(x1, x2, /, out=None, *, where=True, casting='same_kind', order='K', dtype=None, subok=True[, signature, extobj])\n",
            "\n",
            "Add arguments element-wise.\n",
            "\n",
            "Parameters\n",
            "----------\n",
            "x1, x2 : array_like\n",
            "    The arrays to be added.\n",
            "    If ``x1.shape != x2.shape``, they must be broadcastable to a common\n",
            "    shape (which becomes the shape of the output).\n",
            "out : ndarray, None, or tuple of ndarray and None, optional\n",
            "    A location into which the result is stored. If provided, it must have\n",
            "    a shape that the inputs broadcast to. If not provided or None,\n",
            "    a freshly-allocated array is returned. A tuple (possible only as a\n",
            "    keyword argument) must have length equal to the number of outputs.\n",
            "where : array_like, optional\n",
            "    This condition is broadcast over the input. At locations where the\n",
            "    condition is True, the `out` array will be set to the ufunc result.\n",
            "    Elsewhere, the `out` array will retain its original value.\n",
            "    Note that if an uninitialized `out` array is created via the default\n",
            "    ``out=None``, locations within it where the condition is False will\n",
            "    remain uninitialized.\n",
            "**kwargs\n",
            "    For other keyword-only arguments, see the\n",
            "    :ref:`ufunc docs <ufuncs.kwargs>`.\n",
            "\n",
            "Returns\n",
            "-------\n",
            "add : ndarray or scalar\n",
            "    The sum of `x1` and `x2`, element-wise.\n",
            "    This is a scalar if both `x1` and `x2` are scalars.\n",
            "\n",
            "Notes\n",
            "-----\n",
            "Equivalent to `x1` + `x2` in terms of array broadcasting.\n",
            "\n",
            "Examples\n",
            "--------\n",
            ">>> np.add(1.0, 4.0)\n",
            "5.0\n",
            ">>> x1 = np.arange(9.0).reshape((3, 3))\n",
            ">>> x2 = np.arange(3.0)\n",
            ">>> np.add(x1, x2)\n",
            "array([[  0.,   2.,   4.],\n",
            "       [  3.,   5.,   7.],\n",
            "       [  6.,   8.,  10.]])\n",
            "\n",
            "The ``+`` operator can be used as a shorthand for ``np.add`` on ndarrays.\n",
            "\n",
            ">>> x1 = np.arange(9.0).reshape((3, 3))\n",
            ">>> x2 = np.arange(3.0)\n",
            ">>> x1 + x2\n",
            "array([[ 0.,  2.,  4.],\n",
            "       [ 3.,  5.,  7.],\n",
            "       [ 6.,  8., 10.]])\n"
          ]
        }
      ],
      "source": [
        "np.info(np.add)"
      ]
    },
    {
      "cell_type": "markdown",
      "metadata": {
        "id": "ifpuo2lRL38Y"
      },
      "source": [
        "#### 6.  Create a null vector of size 10 but the fifth value which is 1 (★☆☆) \n",
        "(**hint**: array\\[4\\])"
      ]
    },
    {
      "cell_type": "code",
      "execution_count": null,
      "metadata": {
        "colab": {
          "base_uri": "https://localhost:8080/"
        },
        "id": "5C8EIXaKL38Z",
        "outputId": "99881c00-78f3-4dd4-a6ec-3457da1d44ba"
      },
      "outputs": [
        {
          "output_type": "execute_result",
          "data": {
            "text/plain": [
              "array([0., 0., 0., 0., 1., 0., 0., 0., 0., 0.])"
            ]
          },
          "metadata": {},
          "execution_count": 10
        }
      ],
      "source": [
        "b=np.zeros(10)\n",
        "b[4]=1\n",
        "b"
      ]
    },
    {
      "cell_type": "markdown",
      "metadata": {
        "id": "e9oMARCML38a"
      },
      "source": [
        "#### 7.  Create a vector with values ranging from 10 to 49 (★☆☆) \n",
        "(**hint**: np.arange)"
      ]
    },
    {
      "cell_type": "code",
      "execution_count": null,
      "metadata": {
        "colab": {
          "base_uri": "https://localhost:8080/"
        },
        "id": "6vf2njeML38b",
        "outputId": "10ade18c-1260-4b40-d22f-dae8e7e3abe8"
      },
      "outputs": [
        {
          "output_type": "execute_result",
          "data": {
            "text/plain": [
              "array([10, 11, 12, 13, 14, 15, 16, 17, 18, 19, 20, 21, 22, 23, 24, 25, 26,\n",
              "       27, 28, 29, 30, 31, 32, 33, 34, 35, 36, 37, 38, 39, 40, 41, 42, 43,\n",
              "       44, 45, 46, 47, 48])"
            ]
          },
          "metadata": {},
          "execution_count": 11
        }
      ],
      "source": [
        "b=np.arange(10,49)\n",
        "b"
      ]
    },
    {
      "cell_type": "markdown",
      "metadata": {
        "id": "EQwN3rRLL38c"
      },
      "source": [
        "#### 8.  Reverse a vector (first element becomes last) (★☆☆) \n",
        "(**hint**: array\\[::-1\\])"
      ]
    },
    {
      "cell_type": "code",
      "source": [
        "b=np.arange(10,49)\n",
        "print(b[::-1])"
      ],
      "metadata": {
        "colab": {
          "base_uri": "https://localhost:8080/"
        },
        "id": "5lYOzqQhRDiP",
        "outputId": "ef95438f-af0b-464e-c83b-74d09821aac4"
      },
      "execution_count": null,
      "outputs": [
        {
          "output_type": "stream",
          "name": "stdout",
          "text": [
            "[48 47 46 45 44 43 42 41 40 39 38 37 36 35 34 33 32 31 30 29 28 27 26 25\n",
            " 24 23 22 21 20 19 18 17 16 15 14 13 12 11 10]\n"
          ]
        }
      ]
    },
    {
      "cell_type": "code",
      "execution_count": null,
      "metadata": {
        "id": "R8dD1X38L38d"
      },
      "outputs": [],
      "source": []
    },
    {
      "cell_type": "markdown",
      "metadata": {
        "id": "ZRr19bb1L38e"
      },
      "source": [
        "#### 9.  Create a 3x3 matrix with values ranging from 0 to 8 (★☆☆) \n",
        "(**hint**: reshape)"
      ]
    },
    {
      "cell_type": "code",
      "execution_count": null,
      "metadata": {
        "colab": {
          "base_uri": "https://localhost:8080/"
        },
        "id": "qv0XwTfrL38f",
        "outputId": "253f8125-3b50-4a97-9056-4270bbc48e0b"
      },
      "outputs": [
        {
          "output_type": "execute_result",
          "data": {
            "text/plain": [
              "array([[0, 1, 2],\n",
              "       [3, 4, 5],\n",
              "       [6, 7, 8]])"
            ]
          },
          "metadata": {},
          "execution_count": 13
        }
      ],
      "source": [
        "b=np.arange(0,9).reshape(3,3)\n",
        "b"
      ]
    },
    {
      "cell_type": "code",
      "source": [],
      "metadata": {
        "id": "mXau3h3wRtPv"
      },
      "execution_count": null,
      "outputs": []
    },
    {
      "cell_type": "markdown",
      "metadata": {
        "id": "stWCb0hBL38g"
      },
      "source": [
        "#### 10. Find indices of non-zero elements from \\[1,2,0,0,4,0\\] (★☆☆) \n",
        "(**hint**: np.nonzero)"
      ]
    },
    {
      "cell_type": "code",
      "execution_count": null,
      "metadata": {
        "colab": {
          "base_uri": "https://localhost:8080/"
        },
        "id": "AJZufzZhL38i",
        "outputId": "6236fc4e-4554-4a01-be70-15b081de1b03"
      },
      "outputs": [
        {
          "output_type": "execute_result",
          "data": {
            "text/plain": [
              "(array([0, 1, 4]),)"
            ]
          },
          "metadata": {},
          "execution_count": 16
        }
      ],
      "source": [
        "a=np.array([1,2,0,0,4,0])\n",
        "b=a.nonzero()\n",
        "b"
      ]
    },
    {
      "cell_type": "markdown",
      "metadata": {
        "id": "4pIpTJuSL38i"
      },
      "source": [
        "#### 11. Create a 3x3 identity matrix (★☆☆) \n",
        "(**hint**: np.eye)"
      ]
    },
    {
      "cell_type": "code",
      "execution_count": null,
      "metadata": {
        "colab": {
          "base_uri": "https://localhost:8080/"
        },
        "id": "kFxeT-wML38j",
        "outputId": "347938ba-05aa-4a08-f02b-58da01871d23"
      },
      "outputs": [
        {
          "output_type": "execute_result",
          "data": {
            "text/plain": [
              "array([[1., 0., 0.],\n",
              "       [0., 1., 0.],\n",
              "       [0., 0., 1.]])"
            ]
          },
          "metadata": {},
          "execution_count": 17
        }
      ],
      "source": [
        "a=np.eye(3,3)\n",
        "a"
      ]
    },
    {
      "cell_type": "markdown",
      "metadata": {
        "id": "Mqo6MPS_L38k"
      },
      "source": [
        "#### 12. Create a 3x3x3 array with random values (★☆☆) \n",
        "(**hint**: np.random.random)"
      ]
    },
    {
      "cell_type": "code",
      "source": [
        "a=np.random.random((3,3,3))\n",
        "a"
      ],
      "metadata": {
        "colab": {
          "base_uri": "https://localhost:8080/"
        },
        "id": "2E9T6cSbSW75",
        "outputId": "e5fc9499-3a07-47fc-fcc9-c8747bd5c6cb"
      },
      "execution_count": null,
      "outputs": [
        {
          "output_type": "execute_result",
          "data": {
            "text/plain": [
              "array([[[0.21737599, 0.12309891, 0.03668601],\n",
              "        [0.4081896 , 0.88010813, 0.96707189],\n",
              "        [0.81233511, 0.66573497, 0.73014614]],\n",
              "\n",
              "       [[0.78354095, 0.74016208, 0.45564068],\n",
              "        [0.95697992, 0.49976682, 0.07741374],\n",
              "        [0.8348502 , 0.27867468, 0.12915845]],\n",
              "\n",
              "       [[0.06449697, 0.4089124 , 0.97650385],\n",
              "        [0.8590532 , 0.53396035, 0.04501853],\n",
              "        [0.02310294, 0.52583014, 0.22532293]]])"
            ]
          },
          "metadata": {},
          "execution_count": 19
        }
      ]
    },
    {
      "cell_type": "code",
      "execution_count": null,
      "metadata": {
        "collapsed": true,
        "id": "LFae-NekL38k"
      },
      "outputs": [],
      "source": []
    },
    {
      "cell_type": "markdown",
      "metadata": {
        "id": "ZqO1pcvIL38l"
      },
      "source": [
        "#### 13. Create a 10x10 array with random values and find the minimum and maximum values (★☆☆) \n",
        "(**hint**: min, max)"
      ]
    },
    {
      "cell_type": "code",
      "execution_count": null,
      "metadata": {
        "colab": {
          "base_uri": "https://localhost:8080/"
        },
        "id": "9LUZ0dbwL38l",
        "outputId": "93c7520f-2c9a-47d7-f9ec-25ebb55cfe01"
      },
      "outputs": [
        {
          "output_type": "stream",
          "name": "stdout",
          "text": [
            "0.015793012553975472\n",
            "0.9686280895231613\n"
          ]
        }
      ],
      "source": [
        "a=np.random.random((10,10))\n",
        "print(a.min())\n",
        "print(a.max())"
      ]
    },
    {
      "cell_type": "markdown",
      "metadata": {
        "id": "-XVzkrjTL38m"
      },
      "source": [
        "#### 14. Create a random vector of size 30 and find the mean value (★☆☆) \n",
        "(**hint**: mean)"
      ]
    },
    {
      "cell_type": "code",
      "execution_count": null,
      "metadata": {
        "colab": {
          "base_uri": "https://localhost:8080/"
        },
        "id": "I4P_p-ZEL38m",
        "outputId": "4cda8915-a3da-42b0-ac96-f3c463388535"
      },
      "outputs": [
        {
          "output_type": "execute_result",
          "data": {
            "text/plain": [
              "14.5"
            ]
          },
          "metadata": {},
          "execution_count": 23
        }
      ],
      "source": [
        "a=np.arange(30)\n",
        "a.mean()"
      ]
    },
    {
      "cell_type": "markdown",
      "metadata": {
        "id": "upfyqvdnL38n"
      },
      "source": [
        "#### 15. Create a 2d array with 1 on the border and 0 inside (★☆☆) \n",
        "(**hint**: array\\[1:-1, 1:-1\\])"
      ]
    },
    {
      "cell_type": "code",
      "source": [
        "a=np.ones(30).reshape(6,5)\n",
        "a[1:-1,1:-1]=0\n",
        "a"
      ],
      "metadata": {
        "colab": {
          "base_uri": "https://localhost:8080/"
        },
        "id": "mBEdL0tgTdPP",
        "outputId": "f1843ada-d4e5-44ef-93a2-254f2663570b"
      },
      "execution_count": null,
      "outputs": [
        {
          "output_type": "execute_result",
          "data": {
            "text/plain": [
              "array([[1., 1., 1., 1., 1.],\n",
              "       [1., 0., 0., 0., 1.],\n",
              "       [1., 0., 0., 0., 1.],\n",
              "       [1., 0., 0., 0., 1.],\n",
              "       [1., 0., 0., 0., 1.],\n",
              "       [1., 1., 1., 1., 1.]])"
            ]
          },
          "metadata": {},
          "execution_count": 25
        }
      ]
    },
    {
      "cell_type": "code",
      "execution_count": null,
      "metadata": {
        "id": "Oh1bN7PBL38n"
      },
      "outputs": [],
      "source": []
    },
    {
      "cell_type": "markdown",
      "metadata": {
        "id": "M_Y8K2UrL38o"
      },
      "source": [
        "#### 16. How to add a border (filled with 0's) around an existing array? (★☆☆) \n",
        "(**hint**: np.pad)"
      ]
    },
    {
      "cell_type": "code",
      "execution_count": null,
      "metadata": {
        "colab": {
          "base_uri": "https://localhost:8080/"
        },
        "id": "YjgrTPUmL38o",
        "outputId": "1274d451-b914-4f0a-e97f-d2b3ead0efe8"
      },
      "outputs": [
        {
          "output_type": "execute_result",
          "data": {
            "text/plain": [
              "array([[ 0,  0,  0,  0,  0,  0],\n",
              "       [ 0,  1,  2,  3,  4,  0],\n",
              "       [ 0,  5,  6,  7,  8,  0],\n",
              "       [ 0,  9, 10, 11, 12,  0],\n",
              "       [ 0,  0,  0,  0,  0,  0]])"
            ]
          },
          "metadata": {},
          "execution_count": 26
        }
      ],
      "source": [
        "a=np.arange(1,13).reshape(3,4)\n",
        "b=np.pad(a,pad_width=1,mode=\"constant\",constant_values=0)\n",
        "b"
      ]
    },
    {
      "cell_type": "markdown",
      "metadata": {
        "id": "NGynn-utL38p"
      },
      "source": [
        "#### 17. What is the result of the following expression? (★☆☆) \n",
        "(**hint**: NaN = not a number, inf = infinity)"
      ]
    },
    {
      "cell_type": "markdown",
      "metadata": {
        "id": "kcgPe1N6L38q"
      },
      "source": [
        "```python\n",
        "0 * np.nan\n",
        "np.nan == np.nan\n",
        "np.inf > np.nan\n",
        "np.nan - np.nan\n",
        "0.3 == 3 * 0.1\n",
        "```"
      ]
    },
    {
      "cell_type": "code",
      "execution_count": null,
      "metadata": {
        "colab": {
          "base_uri": "https://localhost:8080/"
        },
        "id": "2nFq4vxfL38r",
        "outputId": "ab5089b1-43dd-450b-f7d6-191c6b8805e4"
      },
      "outputs": [
        {
          "output_type": "execute_result",
          "data": {
            "text/plain": [
              "(nan, False, False, nan, False)"
            ]
          },
          "metadata": {},
          "execution_count": 27
        }
      ],
      "source": [
        "0*np.nan,np.nan==np.nan,np.inf>np.nan,np.nan-np.nan,0.3==3*0.1"
      ]
    },
    {
      "cell_type": "markdown",
      "metadata": {
        "id": "ktjSrNdML38s"
      },
      "source": [
        "#### 18. Create a 5x5 matrix with values 1,2,3,4 just below the diagonal (★☆☆) \n",
        "(**hint**: np.diag)"
      ]
    },
    {
      "cell_type": "code",
      "execution_count": null,
      "metadata": {
        "colab": {
          "base_uri": "https://localhost:8080/"
        },
        "id": "pzGMatirL38t",
        "outputId": "4924813e-3976-4612-d82b-364370678f5c"
      },
      "outputs": [
        {
          "output_type": "execute_result",
          "data": {
            "text/plain": [
              "array([[1., 0., 0., 0., 0.],\n",
              "       [1., 1., 0., 0., 0.],\n",
              "       [0., 2., 1., 0., 0.],\n",
              "       [0., 0., 3., 1., 0.],\n",
              "       [0., 0., 0., 4., 1.]])"
            ]
          },
          "metadata": {},
          "execution_count": 29
        }
      ],
      "source": [
        "c=np.eye(5,5)\n",
        "d=np.diag([1,2,3,4])\n",
        "d=np.insert(d,4,np.zeros(d.shape[1]),axis=1)\n",
        "d=np.insert(d,0,np.zeros(c.shape[0]),axis=0)\n",
        "c+d\n"
      ]
    },
    {
      "cell_type": "markdown",
      "metadata": {
        "id": "8H_XWHX-L38u"
      },
      "source": [
        "#### 19. Create a 8x8 matrix and fill it with a checkerboard pattern (★☆☆) \n",
        "(**hint**: array\\[::2\\])"
      ]
    },
    {
      "cell_type": "code",
      "execution_count": null,
      "metadata": {
        "colab": {
          "base_uri": "https://localhost:8080/"
        },
        "id": "5riFsek0L38v",
        "outputId": "c1a66670-9f81-4edb-ca44-e1fa8479fa5b"
      },
      "outputs": [
        {
          "output_type": "execute_result",
          "data": {
            "text/plain": [
              "array([[1., 0., 1., 0., 1., 0., 1., 0.],\n",
              "       [0., 1., 0., 0., 0., 0., 0., 0.],\n",
              "       [1., 0., 1., 0., 1., 0., 1., 0.],\n",
              "       [0., 0., 0., 0., 0., 0., 0., 0.],\n",
              "       [1., 0., 1., 0., 1., 0., 1., 0.],\n",
              "       [0., 0., 0., 0., 0., 0., 0., 0.],\n",
              "       [1., 0., 1., 0., 1., 0., 1., 0.],\n",
              "       [0., 0., 0., 0., 0., 0., 0., 0.]])"
            ]
          },
          "metadata": {},
          "execution_count": 30
        }
      ],
      "source": [
        "c=np.zeros(64).reshape(8,8)\n",
        "c[::2,::2]=1\n",
        "c[1:2,1:2]=1\n",
        "c"
      ]
    },
    {
      "cell_type": "markdown",
      "metadata": {
        "id": "XzSRD7q4L38w"
      },
      "source": [
        "#### 20. Consider a (6,7,8) shape array, what is the index (x,y,z) of the 100th element? \n",
        "(**hint**: np.unravel_index)"
      ]
    },
    {
      "cell_type": "code",
      "execution_count": null,
      "metadata": {
        "colab": {
          "base_uri": "https://localhost:8080/"
        },
        "id": "IJpeCwyuL38w",
        "outputId": "665f7e8a-e9f8-4e23-88b6-4801b46de7e4"
      },
      "outputs": [
        {
          "output_type": "execute_result",
          "data": {
            "text/plain": [
              "(1, 5, 4)"
            ]
          },
          "metadata": {},
          "execution_count": 31
        }
      ],
      "source": [
        "a=np.arange(336).reshape(6,7,8)\n",
        "np.unravel_index(100,(6,7,8))"
      ]
    },
    {
      "cell_type": "markdown",
      "metadata": {
        "id": "uZgxl619L38x"
      },
      "source": [
        "#### 21. Create a checkerboard 8x8 matrix using the tile function (★☆☆) \n",
        "(**hint**: np.tile)"
      ]
    },
    {
      "cell_type": "code",
      "execution_count": null,
      "metadata": {
        "colab": {
          "base_uri": "https://localhost:8080/"
        },
        "id": "O_eTC0adL38y",
        "outputId": "e321e46d-37fc-471e-c476-71f89137e80f"
      },
      "outputs": [
        {
          "output_type": "execute_result",
          "data": {
            "text/plain": [
              "array([[1, 0, 1, 0, 1, 0, 1, 0],\n",
              "       [0, 1, 0, 1, 0, 1, 0, 1],\n",
              "       [1, 0, 1, 0, 1, 0, 1, 0],\n",
              "       [0, 1, 0, 1, 0, 1, 0, 1],\n",
              "       [1, 0, 1, 0, 1, 0, 1, 0],\n",
              "       [0, 1, 0, 1, 0, 1, 0, 1],\n",
              "       [1, 0, 1, 0, 1, 0, 1, 0],\n",
              "       [0, 1, 0, 1, 0, 1, 0, 1]])"
            ]
          },
          "metadata": {},
          "execution_count": 32
        }
      ],
      "source": [
        "a=np.tile(np.array([[1,0],[0,1]]),[4,4])\n",
        "a"
      ]
    },
    {
      "cell_type": "markdown",
      "metadata": {
        "id": "VDfk3jSzL38y"
      },
      "source": [
        "#### 22. Normalize a 5x5 random matrix (★☆☆) \n",
        "(**hint**: (x - min) / (max - min))"
      ]
    },
    {
      "cell_type": "code",
      "execution_count": null,
      "metadata": {
        "colab": {
          "base_uri": "https://localhost:8080/"
        },
        "id": "k7ir1JtXL38z",
        "outputId": "7f9a254c-b883-41d2-f51b-16ad4633aacb"
      },
      "outputs": [
        {
          "output_type": "execute_result",
          "data": {
            "text/plain": [
              "array([[0.28261625, 0.4069979 , 0.84845344, 0.        , 1.        ],\n",
              "       [0.99525879, 0.25689395, 0.53555145, 0.60177144, 0.08344242],\n",
              "       [0.73063469, 0.87891227, 0.05590722, 0.4330204 , 0.35357747],\n",
              "       [0.31639944, 0.07897729, 0.40336269, 0.32632668, 0.21320532],\n",
              "       [0.24479955, 0.54551637, 0.885812  , 0.44458442, 0.71187214]])"
            ]
          },
          "metadata": {},
          "execution_count": 34
        }
      ],
      "source": [
        "ab=np.random.random((5,5))\n",
        "min,max=ab.min(),ab.max()\n",
        "ab=(ab-min)/(max-min)\n",
        "ab"
      ]
    },
    {
      "cell_type": "markdown",
      "metadata": {
        "id": "MuLQhorLL38z"
      },
      "source": [
        "#### 23. Create a custom dtype that describes a color as four unsigned bytes (RGBA) (★☆☆) \n",
        "(**hint**: np.dtype)"
      ]
    },
    {
      "cell_type": "code",
      "execution_count": null,
      "metadata": {
        "collapsed": true,
        "colab": {
          "base_uri": "https://localhost:8080/"
        },
        "id": "K5Sjngk6L380",
        "outputId": "464eac5d-6f24-472d-a5f5-a70e1a68dc19"
      },
      "outputs": [
        {
          "output_type": "stream",
          "name": "stderr",
          "text": [
            "/usr/local/lib/python3.7/dist-packages/ipykernel_launcher.py:4: FutureWarning: Passing (type, 1) or '1type' as a synonym of type is deprecated; in a future version of numpy, it will be understood as (type, (1,)) / '(1,)type'.\n",
            "  after removing the cwd from sys.path.\n"
          ]
        }
      ],
      "source": [
        "color = np.dtype([(\"r\",np.ubyte,1),\n",
        "                  (\"g\",np.ubyte,1),\n",
        "                  (\"b\",np.ubyte,1),\n",
        "                  (\"a\",np.ubyte,1)])"
      ]
    },
    {
      "cell_type": "markdown",
      "metadata": {
        "id": "Is5idp_KL380"
      },
      "source": [
        "#### 24. Multiply a 5x3 matrix by a 3x2 matrix (real matrix product) (★☆☆) \n",
        "(**hint**: np.dot | @)"
      ]
    },
    {
      "cell_type": "code",
      "execution_count": null,
      "metadata": {
        "colab": {
          "base_uri": "https://localhost:8080/"
        },
        "id": "27SuEPisL380",
        "outputId": "30bdb79f-7ee8-4cf6-94fe-027697b8e1dd"
      },
      "outputs": [
        {
          "output_type": "execute_result",
          "data": {
            "text/plain": [
              "array([[ 62,  55],\n",
              "       [ 85,  83],\n",
              "       [ 85,  84],\n",
              "       [108, 100],\n",
              "       [ 47,  45]])"
            ]
          },
          "metadata": {},
          "execution_count": 38
        }
      ],
      "source": [
        "matr1=np.random.randint(2,10,(5,3))\n",
        "matr2=np.random.randint(2,10,(3,2))\n",
        "a=np.dot(matr1,matr2)\n",
        "a"
      ]
    },
    {
      "cell_type": "markdown",
      "metadata": {
        "id": "MKWrsPmyL381"
      },
      "source": [
        "#### 25. Given a 1D array, negate all elements which are between 3 and 8, in place. (★☆☆) \n",
        "(**hint**: >, <=)"
      ]
    },
    {
      "cell_type": "code",
      "execution_count": null,
      "metadata": {
        "colab": {
          "base_uri": "https://localhost:8080/"
        },
        "id": "YUOJ-Lq_L381",
        "outputId": "2b8a6c06-3102-48d4-fed7-f945d6c26421"
      },
      "outputs": [
        {
          "output_type": "execute_result",
          "data": {
            "text/plain": [
              "array([ 0,  1,  2,  3, -4, -5, -6, -7, -8,  9, 10, 11, 12, 13, 14])"
            ]
          },
          "metadata": {},
          "execution_count": 39
        }
      ],
      "source": [
        "a=np.arange(15)\n",
        "a[(a>3) & (a<=8)]*=-1\n",
        "a"
      ]
    },
    {
      "cell_type": "markdown",
      "metadata": {
        "id": "g-V-n0wQL382"
      },
      "source": [
        "#### 26. What is the output of the following script? (★☆☆) \n",
        "(**hint**: np.sum)"
      ]
    },
    {
      "cell_type": "markdown",
      "metadata": {
        "id": "_X-DVQ0TL383"
      },
      "source": [
        "```python\n",
        "# Author: Jake VanderPlas\n",
        "\n",
        "print(sum(range(5),-1))\n",
        "from numpy import *\n",
        "print(sum(range(5),-1))\n",
        "```"
      ]
    },
    {
      "cell_type": "code",
      "execution_count": null,
      "metadata": {
        "colab": {
          "base_uri": "https://localhost:8080/"
        },
        "id": "OI4eeFzUL383",
        "outputId": "60edcdb9-7d73-4fc5-feb1-9f0748761a98"
      },
      "outputs": [
        {
          "output_type": "stream",
          "name": "stdout",
          "text": [
            "9\n",
            "10\n"
          ]
        }
      ],
      "source": [
        "print(sum(range(5),-1))\n",
        "from numpy import *\n",
        "print(sum(range(5),-1))"
      ]
    },
    {
      "cell_type": "markdown",
      "metadata": {
        "id": "39GdI-yLL383"
      },
      "source": [
        "#### 27. Consider an integer vector Z, which of these expressions are legal? (★☆☆)"
      ]
    },
    {
      "cell_type": "markdown",
      "metadata": {
        "id": "tTxpsxZ3L384"
      },
      "source": [
        "```python\n",
        "Z**Z\n",
        "2 << Z >> 2\n",
        "Z <- Z\n",
        "1j*Z\n",
        "Z/1/1\n",
        "Z<Z>Z\n",
        "```"
      ]
    },
    {
      "cell_type": "code",
      "execution_count": null,
      "metadata": {
        "colab": {
          "base_uri": "https://localhost:8080/"
        },
        "id": "ladJN6tVL385",
        "outputId": "a90d26ff-47db-4e2a-f279-72abbb095dc2"
      },
      "outputs": [
        {
          "output_type": "stream",
          "name": "stdout",
          "text": [
            "[[ 0  1  2  3]\n",
            " [ 4  5  6  7]\n",
            " [ 8  9 10 11]]\n",
            "[[           1            1            4           27]\n",
            " [         256         3125        46656       823543]\n",
            " [    16777216    387420489  10000000000 285311670611]]\n",
            "[[False False False False]\n",
            " [False False False False]\n",
            " [False False False False]]\n",
            "[[0. +0.j 0. +1.j 0. +2.j 0. +3.j]\n",
            " [0. +4.j 0. +5.j 0. +6.j 0. +7.j]\n",
            " [0. +8.j 0. +9.j 0.+10.j 0.+11.j]]\n",
            "[[ 0.  1.  2.  3.]\n",
            " [ 4.  5.  6.  7.]\n",
            " [ 8.  9. 10. 11.]]\n"
          ]
        }
      ],
      "source": [
        "z=np.arange(12).reshape(3,4)\n",
        "print(z)\n",
        "print(z**z)\n",
        "print(z<-z)\n",
        "print(1j*z)\n",
        "print(z/1/1)\n"
      ]
    },
    {
      "cell_type": "markdown",
      "metadata": {
        "id": "oiLojtGsL385"
      },
      "source": [
        "#### 28. What are the result of the following expressions?"
      ]
    },
    {
      "cell_type": "markdown",
      "metadata": {
        "id": "uVNGJ6XyL385"
      },
      "source": [
        "```python\n",
        "np.array(0) / np.array(0)\n",
        "np.array(0) // np.array(0)\n",
        "np.array([np.nan]).astype(int).astype(float)\n",
        "```"
      ]
    },
    {
      "cell_type": "code",
      "execution_count": null,
      "metadata": {
        "colab": {
          "base_uri": "https://localhost:8080/"
        },
        "id": "fixjI93ZL386",
        "outputId": "da29c75b-08dc-4a9c-cbac-d1aea1d317dd"
      },
      "outputs": [
        {
          "output_type": "stream",
          "name": "stdout",
          "text": [
            "nan\n",
            "0\n",
            "[-9.22337204e+18]\n"
          ]
        },
        {
          "output_type": "stream",
          "name": "stderr",
          "text": [
            "/usr/local/lib/python3.7/dist-packages/ipykernel_launcher.py:1: RuntimeWarning: invalid value encountered in true_divide\n",
            "  \"\"\"Entry point for launching an IPython kernel.\n",
            "/usr/local/lib/python3.7/dist-packages/ipykernel_launcher.py:2: RuntimeWarning: divide by zero encountered in floor_divide\n",
            "  \n"
          ]
        }
      ],
      "source": [
        "print(np.array(0)/np.array(0))\n",
        "print(np.array(0)//np.array(0))\n",
        "print(np.array([np.nan]).astype(int).astype(float))"
      ]
    },
    {
      "cell_type": "markdown",
      "metadata": {
        "id": "NhHoOa99L386"
      },
      "source": [
        "#### 29. How to round away from zero a float array ? (★☆☆) \n",
        "(**hint**: np.uniform, np.copysign, np.ceil, np.abs)"
      ]
    },
    {
      "cell_type": "code",
      "execution_count": null,
      "metadata": {
        "colab": {
          "base_uri": "https://localhost:8080/"
        },
        "id": "Ziv-8gmUL387",
        "outputId": "6bf80800-0a44-46be-f7ad-ae48bf034ebf"
      },
      "outputs": [
        {
          "output_type": "execute_result",
          "data": {
            "text/plain": [
              "array([ 4.,  4., -7.,  7., -1., -2., -5.,  4.,  5., -2.])"
            ]
          },
          "metadata": {},
          "execution_count": 51
        }
      ],
      "source": [
        "a=np.random.uniform(-10,+10,10)\n",
        "np.copysign(np.ceil(np.abs(a)),a)"
      ]
    },
    {
      "cell_type": "markdown",
      "metadata": {
        "id": "dOAXBygpL387"
      },
      "source": [
        "#### 30. How to find common values between two arrays? (★☆☆) \n",
        "(**hint**: np.intersect1d)"
      ]
    },
    {
      "cell_type": "code",
      "execution_count": null,
      "metadata": {
        "colab": {
          "base_uri": "https://localhost:8080/"
        },
        "id": "bE0Eu48OL388",
        "outputId": "17b008f3-1276-4b01-d9dc-07bfb112ddca"
      },
      "outputs": [
        {
          "output_type": "execute_result",
          "data": {
            "text/plain": [
              "array([ 8,  9, 10, 11])"
            ]
          },
          "metadata": {},
          "execution_count": 52
        }
      ],
      "source": [
        "x=np.arange(0,12)\n",
        "y=np.arange(8,15)\n",
        "z=np.intersect1d(x,y)\n",
        "z"
      ]
    },
    {
      "cell_type": "markdown",
      "metadata": {
        "id": "Z2wcwIqzL389"
      },
      "source": [
        "#### 31. How to ignore all numpy warnings (not recommended)? (★☆☆) \n",
        "(**hint**: np.seterr, np.errstate)"
      ]
    },
    {
      "cell_type": "code",
      "execution_count": null,
      "metadata": {
        "colab": {
          "base_uri": "https://localhost:8080/"
        },
        "id": "dDfZyjsSL38-",
        "outputId": "41f12f9e-adcf-48fa-ebbb-0a8817f0047c"
      },
      "outputs": [
        {
          "output_type": "stream",
          "name": "stderr",
          "text": [
            "/usr/local/lib/python3.7/dist-packages/ipykernel_launcher.py:4: RuntimeWarning: divide by zero encountered in true_divide\n",
            "  after removing the cwd from sys.path.\n"
          ]
        }
      ],
      "source": [
        "np.seterr(all='ignore')\n",
        "a=np.arange(3)/0\n",
        "with np.errstate(divide='warn'):\n",
        "        a=np.arange(3)/0"
      ]
    },
    {
      "cell_type": "markdown",
      "metadata": {
        "id": "DhcA1O1lL38-"
      },
      "source": [
        "#### 32. Is the following expressions true? (★☆☆) \n",
        "(**hint**: imaginary number)"
      ]
    },
    {
      "cell_type": "markdown",
      "metadata": {
        "id": "SxS6LOSoL38_"
      },
      "source": [
        "```python\n",
        "np.sqrt(-1) == np.emath.sqrt(-1)\n",
        "```"
      ]
    },
    {
      "cell_type": "code",
      "execution_count": null,
      "metadata": {
        "colab": {
          "base_uri": "https://localhost:8080/"
        },
        "id": "QFLQnEZwL39A",
        "outputId": "62599ce7-8a35-4c90-abc9-c9f2ac039321"
      },
      "outputs": [
        {
          "output_type": "execute_result",
          "data": {
            "text/plain": [
              "False"
            ]
          },
          "metadata": {},
          "execution_count": 55
        }
      ],
      "source": [
        "np.sqrt(-1)==np.emath.sqrt(-1)"
      ]
    },
    {
      "cell_type": "markdown",
      "metadata": {
        "id": "aK15d2w8L39B"
      },
      "source": [
        "#### 33. How to get the dates of yesterday, today and tomorrow? (★☆☆) \n",
        "(**hint**: np.datetime64, np.timedelta64)"
      ]
    },
    {
      "cell_type": "code",
      "execution_count": null,
      "metadata": {
        "collapsed": true,
        "colab": {
          "base_uri": "https://localhost:8080/"
        },
        "id": "Ddadlmn0L39B",
        "outputId": "d2d5b91f-16ef-4906-e382-836411aea885"
      },
      "outputs": [
        {
          "output_type": "stream",
          "name": "stdout",
          "text": [
            "today: 2022-11-21\n",
            "yesterday: 2022-11-20\n",
            "tomorrow: 2022-11-22\n"
          ]
        }
      ],
      "source": [
        "today=np.datetime64('today','D')\n",
        "print('today:',today)\n",
        "yesterday=np.datetime64('today','D')-np.timedelta64(1,'D')\n",
        "print('yesterday:',yesterday)\n",
        "tomorrow=np.datetime64('today','D')+np.timedelta64(1,'D')\n",
        "print('tomorrow:',tomorrow)"
      ]
    },
    {
      "cell_type": "markdown",
      "metadata": {
        "id": "KkEYWjF8L39C"
      },
      "source": [
        "#### 34. How to get all the dates corresponding to the month of July 2016? (★★☆) \n",
        "(**hint**: np.arange(dtype=datetime64\\['D'\\]))"
      ]
    },
    {
      "cell_type": "code",
      "execution_count": null,
      "metadata": {
        "colab": {
          "base_uri": "https://localhost:8080/"
        },
        "id": "Kf1zDTD9L39D",
        "outputId": "eccbe495-da3f-4f72-c032-5e86b6ede40d"
      },
      "outputs": [
        {
          "output_type": "execute_result",
          "data": {
            "text/plain": [
              "array(['2016-07-01', '2016-07-02', '2016-07-03', '2016-07-04',\n",
              "       '2016-07-05', '2016-07-06', '2016-07-07', '2016-07-08',\n",
              "       '2016-07-09', '2016-07-10', '2016-07-11', '2016-07-12',\n",
              "       '2016-07-13', '2016-07-14', '2016-07-15', '2016-07-16',\n",
              "       '2016-07-17', '2016-07-18', '2016-07-19', '2016-07-20',\n",
              "       '2016-07-21', '2016-07-22', '2016-07-23', '2016-07-24',\n",
              "       '2016-07-25', '2016-07-26', '2016-07-27', '2016-07-28',\n",
              "       '2016-07-29', '2016-07-30', '2016-07-31'], dtype='datetime64[D]')"
            ]
          },
          "metadata": {},
          "execution_count": 60
        }
      ],
      "source": [
        "a=np.arange('2016-07','2016-08',dtype='datetime64[D]')\n",
        "a"
      ]
    },
    {
      "cell_type": "code",
      "source": [],
      "metadata": {
        "id": "atXP5lQh0KF3"
      },
      "execution_count": null,
      "outputs": []
    },
    {
      "cell_type": "markdown",
      "metadata": {
        "id": "h34vyp31L39E"
      },
      "source": [
        "#### 35. How to compute ((A+B)\\*(-A/2)) in place (without copy)? (★★☆) \n",
        "(**hint**: np.add(out=), np.negative(out=), np.multiply(out=), np.divide(out=))"
      ]
    },
    {
      "cell_type": "code",
      "execution_count": null,
      "metadata": {
        "colab": {
          "base_uri": "https://localhost:8080/"
        },
        "id": "_l-m6rWsL39F",
        "outputId": "355544d1-d980-48d3-a11f-55d2c3ce71bf"
      },
      "outputs": [
        {
          "output_type": "execute_result",
          "data": {
            "text/plain": [
              "array([-1., -1., -1., -1., -1.])"
            ]
          },
          "metadata": {},
          "execution_count": 61
        }
      ],
      "source": [
        "a=np.ones(5)\n",
        "b=np.ones(5)\n",
        "np.add(a,b,out=b)\n",
        "np.divide(a,2,out=a)\n",
        "np.negative(a,out=a)\n",
        "np.multiply(b,a,out=a)"
      ]
    },
    {
      "cell_type": "code",
      "source": [],
      "metadata": {
        "id": "9RqqyfUe0oOg"
      },
      "execution_count": null,
      "outputs": []
    },
    {
      "cell_type": "markdown",
      "metadata": {
        "id": "PbOt-0b5L39G"
      },
      "source": [
        "#### 36. Extract the integer part of a random array using 5 different methods (★★☆) \n",
        "(**hint**: %, np.floor, np.ceil, astype, np.trunc)"
      ]
    },
    {
      "cell_type": "code",
      "execution_count": null,
      "metadata": {
        "colab": {
          "base_uri": "https://localhost:8080/"
        },
        "id": "dWIn7gu7L39G",
        "outputId": "8aaa889c-803a-41bc-8847-80fb719e966c"
      },
      "outputs": [
        {
          "output_type": "stream",
          "name": "stdout",
          "text": [
            "[ 3.7043127   9.74672568  8.10984816  9.41418288  8.70496138 11.70973823\n",
            "  2.33680007  2.36221166  6.91705657  9.95168815]\n",
            "[ 3.  9.  8.  9.  8. 11.  2.  2.  6.  9.]\n",
            "[ 3.  9.  8.  9.  8. 11.  2.  2.  6.  9.]\n",
            "[ 3.  9.  8.  9.  8. 11.  2.  2.  6.  9.]\n",
            "[ 3  9  8  9  8 11  2  2  6  9]\n",
            "[ 3.  9.  8.  9.  8. 11.  2.  2.  6.  9.]\n"
          ]
        }
      ],
      "source": [
        "a=np.random.uniform(0,12,10)\n",
        "print(a)\n",
        "print(a-(a%1))\n",
        "print(np.floor(a))\n",
        "print(np.ceil(a)-1)\n",
        "print(a.astype(int))\n",
        "print(np.trunc(a))"
      ]
    },
    {
      "cell_type": "markdown",
      "metadata": {
        "id": "e7u4a3L6L39H"
      },
      "source": [
        "#### 37. Create a 5x5 matrix with row values ranging from 0 to 4 (★★☆) \n",
        "(**hint**: np.arange)"
      ]
    },
    {
      "cell_type": "code",
      "execution_count": null,
      "metadata": {
        "colab": {
          "base_uri": "https://localhost:8080/"
        },
        "id": "QTukfRrLL39I",
        "outputId": "98d00298-51e5-4071-85d8-b0e9a4272a31"
      },
      "outputs": [
        {
          "output_type": "execute_result",
          "data": {
            "text/plain": [
              "array([[0., 1., 2., 3., 4.],\n",
              "       [0., 1., 2., 3., 4.],\n",
              "       [0., 1., 2., 3., 4.],\n",
              "       [0., 1., 2., 3., 4.],\n",
              "       [0., 1., 2., 3., 4.]])"
            ]
          },
          "metadata": {},
          "execution_count": 65
        }
      ],
      "source": [
        "a=np.zeros((5,5))\n",
        "a+=np.arange(0,5)\n",
        "a"
      ]
    },
    {
      "cell_type": "markdown",
      "metadata": {
        "id": "LefIGVzqL39J"
      },
      "source": [
        "#### 38. Consider a generator function that generates 10 integers and use it to build an array (★☆☆) \n",
        "(**hint**: np.fromiter)"
      ]
    },
    {
      "cell_type": "code",
      "execution_count": null,
      "metadata": {
        "colab": {
          "base_uri": "https://localhost:8080/"
        },
        "id": "2M32M87EL39K",
        "outputId": "b25db0dd-25b9-42ba-9870-635ddbd8a3ac"
      },
      "outputs": [
        {
          "output_type": "execute_result",
          "data": {
            "text/plain": [
              "array([0, 1, 2, 3, 4, 5, 6, 7, 8, 9])"
            ]
          },
          "metadata": {},
          "execution_count": 66
        }
      ],
      "source": [
        "def generate():\n",
        "  for x in range(10):\n",
        "    yield x\n",
        "z= np.fromiter(generate(),dtype=int,count=-1)\n",
        "z"
      ]
    },
    {
      "cell_type": "markdown",
      "metadata": {
        "id": "SJxncMCXL39L"
      },
      "source": [
        "#### 39. Create a vector of size 10 with values ranging from 0 to 1, both excluded (★★☆) \n",
        "(**hint**: np.linspace)"
      ]
    },
    {
      "cell_type": "code",
      "execution_count": null,
      "metadata": {
        "colab": {
          "base_uri": "https://localhost:8080/"
        },
        "id": "nmBkNPITL39M",
        "outputId": "4dd5b520-e01c-4537-a892-912cd5c518b6"
      },
      "outputs": [
        {
          "output_type": "stream",
          "name": "stdout",
          "text": [
            "[0.09090909 0.18181818 0.27272727 0.36363636 0.45454545 0.54545455\n",
            " 0.63636364 0.72727273 0.81818182 0.90909091]\n"
          ]
        }
      ],
      "source": [
        "a=np.linspace(0,1,11,endpoint=False)[1:]\n",
        "print(a)"
      ]
    },
    {
      "cell_type": "markdown",
      "metadata": {
        "id": "LLpaZTbpL39M"
      },
      "source": [
        "#### 40. Create a random vector of size 10 and sort it (★★☆) \n",
        "(**hint**: sort)"
      ]
    },
    {
      "cell_type": "code",
      "execution_count": null,
      "metadata": {
        "colab": {
          "base_uri": "https://localhost:8080/"
        },
        "id": "js6CktdJL39O",
        "outputId": "1619daf1-0530-4dcc-cd60-be7ab01b008e"
      },
      "outputs": [
        {
          "output_type": "stream",
          "name": "stdout",
          "text": [
            "[57 45 32 31 18 17 34 29 56 49]\n"
          ]
        },
        {
          "output_type": "execute_result",
          "data": {
            "text/plain": [
              "array([17, 18, 29, 31, 32, 34, 45, 49, 56, 57])"
            ]
          },
          "metadata": {},
          "execution_count": 72
        }
      ],
      "source": [
        "x=np.random.randint(11,80,10)\n",
        "print(x)\n",
        "np.sort(x)"
      ]
    },
    {
      "cell_type": "markdown",
      "metadata": {
        "id": "bB2LviPqL39O"
      },
      "source": [
        "#### 41. How to sum a small array faster than np.sum? (★★☆) \n",
        "(**hint**: np.add.reduce)"
      ]
    },
    {
      "cell_type": "code",
      "execution_count": null,
      "metadata": {
        "colab": {
          "base_uri": "https://localhost:8080/"
        },
        "id": "AFLwRw7oL39P",
        "outputId": "d0e94150-fcbf-4b71-b68f-75bf6175c828"
      },
      "outputs": [
        {
          "output_type": "stream",
          "name": "stdout",
          "text": [
            "7.498502731323242\n",
            "9.338617324829102\n"
          ]
        }
      ],
      "source": [
        "import time \n",
        "begin_time=time.time()\n",
        "x=np.arange(1000000)\n",
        "np.sum(x)\n",
        "end_time=time.time()\n",
        "print(str(1000*(end_time-begin_time)))\n",
        "\n",
        "begin_time2=time.time()\n",
        "x=np.arange(1000000)\n",
        "np.add.reduce(x)\n",
        "end_time2=time.time()\n",
        "print(str(1000*(end_time2-begin_time2)))\n"
      ]
    },
    {
      "cell_type": "markdown",
      "metadata": {
        "id": "pSYzfkrLL39Q"
      },
      "source": [
        "#### 42. Consider two random array A and B, check if they are equal (★★☆) \n",
        "(**hint**: np.allclose, np.array\\_equal)"
      ]
    },
    {
      "cell_type": "code",
      "execution_count": null,
      "metadata": {
        "colab": {
          "base_uri": "https://localhost:8080/"
        },
        "id": "wWi3Li6YL39R",
        "outputId": "9a58efdc-1f2c-4638-a8de-a2b9cdc4ad40"
      },
      "outputs": [
        {
          "output_type": "stream",
          "name": "stdout",
          "text": [
            "False\n",
            "False\n"
          ]
        }
      ],
      "source": [
        "x=np.random.randint(0,2,5)\n",
        "y=np.random.randint(0,2,5)\n",
        "z=np.array_equal(x,y)\n",
        "print(z)\n",
        "z=np.allclose(x,y)\n",
        "print(z)\n"
      ]
    },
    {
      "cell_type": "markdown",
      "metadata": {
        "id": "S3c3Vt2uL39R"
      },
      "source": [
        "#### 43. Make an array immutable (read-only) (★★☆) \n",
        "(**hint**: flags.writeable)"
      ]
    },
    {
      "cell_type": "code",
      "execution_count": null,
      "metadata": {
        "id": "g1m7C7n4L39S"
      },
      "outputs": [],
      "source": []
    },
    {
      "cell_type": "markdown",
      "metadata": {
        "id": "hEIl_7uyL39S"
      },
      "source": [
        "#### 44. Consider a random 10x2 matrix representing cartesian coordinates, convert them to polar coordinates (★★☆) \n",
        "(**hint**: np.sqrt, np.arctan2)"
      ]
    },
    {
      "cell_type": "code",
      "execution_count": null,
      "metadata": {
        "colab": {
          "base_uri": "https://localhost:8080/"
        },
        "id": "xDz7uyz_L39T",
        "outputId": "84169d1c-d2f2-46dc-d769-13b6c6dddf03"
      },
      "outputs": [
        {
          "output_type": "stream",
          "name": "stdout",
          "text": [
            "[1.13247018 0.78719047 0.76792212 0.18226254 0.71040788 0.7492306\n",
            " 0.16976415 0.93384559 0.36503816 0.86843022]\n",
            "[0.61577443 0.31823403 1.46634829 0.41124076 0.40214208 0.59199356\n",
            " 0.65172849 0.97379198 1.41726393 0.56165286]\n"
          ]
        }
      ],
      "source": [
        "z=np.random.random((10,2))\n",
        "x,y=z[:,0],z[:,1]\n",
        "r=np.sqrt(x**2+y**2)\n",
        "t=np.arctan2(y,x)\n",
        "print(r)\n",
        "print(t)\n"
      ]
    },
    {
      "cell_type": "markdown",
      "metadata": {
        "id": "ifdxJbXUL39T"
      },
      "source": [
        "#### 45. Create random vector of size 10 and replace the maximum value by 0 (★★☆) \n",
        "(**hint**: argmax)"
      ]
    },
    {
      "cell_type": "code",
      "execution_count": null,
      "metadata": {
        "colab": {
          "base_uri": "https://localhost:8080/"
        },
        "id": "6j4jNWJ9L39T",
        "outputId": "c0dd1590-a417-4c4a-f6ab-4cadad25ad38"
      },
      "outputs": [
        {
          "output_type": "stream",
          "name": "stdout",
          "text": [
            "[0.59800382 0.46119986 0.89339658 0.44446569 0.85765404 0.36080554\n",
            " 0.73914812 0.07877692 0.1491583  0.01090131]\n"
          ]
        },
        {
          "output_type": "execute_result",
          "data": {
            "text/plain": [
              "array([0.59800382, 0.46119986, 0.        , 0.44446569, 0.85765404,\n",
              "       0.36080554, 0.73914812, 0.07877692, 0.1491583 , 0.01090131])"
            ]
          },
          "metadata": {},
          "execution_count": 77
        }
      ],
      "source": [
        "x=np.random.random(10)\n",
        "print(x)\n",
        "t=np.argmax(x)\n",
        "x[t]=0\n",
        "x"
      ]
    },
    {
      "cell_type": "markdown",
      "metadata": {
        "id": "i7_jl8JsL39U"
      },
      "source": [
        "#### 46. Create a structured array with `x` and `y` coordinates covering the \\[0,1\\]x\\[0,1\\] area (★★☆) \n",
        "(**hint**: np.meshgrid)"
      ]
    },
    {
      "cell_type": "code",
      "execution_count": null,
      "metadata": {
        "colab": {
          "base_uri": "https://localhost:8080/"
        },
        "id": "i5L2FWqEL39U",
        "outputId": "fa509a92-92ca-4fdc-a826-65b68d09bc40"
      },
      "outputs": [
        {
          "output_type": "stream",
          "name": "stdout",
          "text": [
            "[[(0.  , 0.  ) (0.25, 0.  ) (0.5 , 0.  ) (0.75, 0.  ) (1.  , 0.  )]\n",
            " [(0.  , 0.25) (0.25, 0.25) (0.5 , 0.25) (0.75, 0.25) (1.  , 0.25)]\n",
            " [(0.  , 0.5 ) (0.25, 0.5 ) (0.5 , 0.5 ) (0.75, 0.5 ) (1.  , 0.5 )]\n",
            " [(0.  , 0.75) (0.25, 0.75) (0.5 , 0.75) (0.75, 0.75) (1.  , 0.75)]\n",
            " [(0.  , 1.  ) (0.25, 1.  ) (0.5 , 1.  ) (0.75, 1.  ) (1.  , 1.  )]]\n"
          ]
        }
      ],
      "source": [
        "z=np.zeros((5,5),[('x',float),('y',float)])\n",
        "z['x'],z['y']=np.meshgrid(np.linspace(0,1,5),np.linspace(0,1,5))\n",
        "print(z)"
      ]
    },
    {
      "cell_type": "markdown",
      "metadata": {
        "id": "QWKiDG7-L39V"
      },
      "source": [
        "####  47. Given two arrays, X and Y, construct the Cauchy matrix C (Cij =1/(xi - yj)) \n",
        "(**hint**: np.subtract.outer)"
      ]
    },
    {
      "cell_type": "code",
      "source": [
        "x=np.arange(8)\n",
        "y=x+0.5\n",
        "c=1.0/np.subtract.outer(x,y)\n",
        "print(np.linalg.det(c))\n"
      ],
      "metadata": {
        "colab": {
          "base_uri": "https://localhost:8080/"
        },
        "id": "glC_BhQdANn0",
        "outputId": "f612ae0b-83e3-44c5-ff89-61a54c6ea25f"
      },
      "execution_count": null,
      "outputs": [
        {
          "output_type": "stream",
          "name": "stdout",
          "text": [
            "3638.163637117973\n"
          ]
        }
      ]
    },
    {
      "cell_type": "code",
      "execution_count": null,
      "metadata": {
        "id": "MGF7O9tEL39V"
      },
      "outputs": [],
      "source": []
    },
    {
      "cell_type": "markdown",
      "metadata": {
        "id": "LmEvPDPhL39V"
      },
      "source": [
        "#### 48. Print the minimum and maximum representable value for each numpy scalar type (★★☆) \n",
        "(**hint**: np.iinfo, np.finfo, eps)"
      ]
    },
    {
      "cell_type": "code",
      "execution_count": null,
      "metadata": {
        "colab": {
          "base_uri": "https://localhost:8080/"
        },
        "id": "7eDn46fmL39W",
        "outputId": "9af37733-3905-4d97-f628-d429ec2d92e5"
      },
      "outputs": [
        {
          "output_type": "stream",
          "name": "stdout",
          "text": [
            "-128\n",
            "127\n",
            "-2147483648\n",
            "2147483647\n",
            "-9223372036854775808\n",
            "9223372036854775807\n",
            "-3.4028235e+38\n",
            "3.4028235e+38\n",
            "1.1920929e-07\n",
            "-1.7976931348623157e+308\n",
            "1.7976931348623157e+308\n",
            "2.220446049250313e-16\n"
          ]
        }
      ],
      "source": [
        "for dtype in [np.int8,np.int32,np.int64]:\n",
        "  print(np.iinfo(dtype).min)\n",
        "  print(np.iinfo(dtype).max)\n",
        "for dtype in [np.float32,np.float64]:\n",
        "  print(np.finfo(dtype).min)\n",
        "  print(np.finfo(dtype).max)\n",
        "  print(np.finfo(dtype).eps)"
      ]
    },
    {
      "cell_type": "markdown",
      "metadata": {
        "id": "Z6QSoLJjL39W"
      },
      "source": [
        "#### 49. How to print all the values of an array? (★★☆) \n",
        "(**hint**: np.set\\_printoptions)"
      ]
    },
    {
      "cell_type": "code",
      "execution_count": null,
      "metadata": {
        "colab": {
          "base_uri": "https://localhost:8080/"
        },
        "id": "qrRUbLMaL39X",
        "outputId": "33a89a3b-2f1c-485a-cdcb-6fb3062d079c"
      },
      "outputs": [
        {
          "output_type": "stream",
          "name": "stdout",
          "text": [
            "[[0. 0. 0. 0. 0. 0. 0. 0. 0. 0. 0. 0. 0. 0. 0. 0.]\n",
            " [0. 0. 0. 0. 0. 0. 0. 0. 0. 0. 0. 0. 0. 0. 0. 0.]\n",
            " [0. 0. 0. 0. 0. 0. 0. 0. 0. 0. 0. 0. 0. 0. 0. 0.]\n",
            " [0. 0. 0. 0. 0. 0. 0. 0. 0. 0. 0. 0. 0. 0. 0. 0.]\n",
            " [0. 0. 0. 0. 0. 0. 0. 0. 0. 0. 0. 0. 0. 0. 0. 0.]\n",
            " [0. 0. 0. 0. 0. 0. 0. 0. 0. 0. 0. 0. 0. 0. 0. 0.]\n",
            " [0. 0. 0. 0. 0. 0. 0. 0. 0. 0. 0. 0. 0. 0. 0. 0.]\n",
            " [0. 0. 0. 0. 0. 0. 0. 0. 0. 0. 0. 0. 0. 0. 0. 0.]\n",
            " [0. 0. 0. 0. 0. 0. 0. 0. 0. 0. 0. 0. 0. 0. 0. 0.]\n",
            " [0. 0. 0. 0. 0. 0. 0. 0. 0. 0. 0. 0. 0. 0. 0. 0.]\n",
            " [0. 0. 0. 0. 0. 0. 0. 0. 0. 0. 0. 0. 0. 0. 0. 0.]\n",
            " [0. 0. 0. 0. 0. 0. 0. 0. 0. 0. 0. 0. 0. 0. 0. 0.]\n",
            " [0. 0. 0. 0. 0. 0. 0. 0. 0. 0. 0. 0. 0. 0. 0. 0.]\n",
            " [0. 0. 0. 0. 0. 0. 0. 0. 0. 0. 0. 0. 0. 0. 0. 0.]\n",
            " [0. 0. 0. 0. 0. 0. 0. 0. 0. 0. 0. 0. 0. 0. 0. 0.]\n",
            " [0. 0. 0. 0. 0. 0. 0. 0. 0. 0. 0. 0. 0. 0. 0. 0.]]\n"
          ]
        }
      ],
      "source": [
        "np.set_printoptions(threshold=np.inf)\n",
        "z=np.zeros((16,16))\n",
        "print(z)"
      ]
    },
    {
      "cell_type": "markdown",
      "metadata": {
        "id": "8OO2_BQGL39X"
      },
      "source": [
        "#### 50. How to find the closest value (to a given scalar) in a vector? (★★☆) \n",
        "(**hint**: argmin)"
      ]
    },
    {
      "cell_type": "code",
      "execution_count": null,
      "metadata": {
        "colab": {
          "base_uri": "https://localhost:8080/"
        },
        "id": "TD7enPASL39Y",
        "outputId": "96c9c358-76d2-407b-fe08-d92af7955097"
      },
      "outputs": [
        {
          "output_type": "stream",
          "name": "stdout",
          "text": [
            "Original array:\n",
            "[ 0  1  2  3  4  5  6  7  8  9 10 11 12 13 14 15 16 17 18 19 20 21 22 23\n",
            " 24 25 26 27 28 29 30 31 32 33 34 35 36 37 38 39 40 41 42 43 44 45 46 47\n",
            " 48 49 50 51 52 53 54 55 56 57 58 59 60 61 62 63 64 65 66 67 68 69 70 71\n",
            " 72 73 74 75 76 77 78 79 80 81 82 83 84 85 86 87 88 89 90 91 92 93 94 95\n",
            " 96 97 98 99]\n",
            "Value to compare:\n",
            "89.69381334275468\n",
            "90\n"
          ]
        }
      ],
      "source": [
        "x = np.arange(100)\n",
        "print(\"Original array:\")\n",
        "print(x)\n",
        "a = np.random.uniform(0,100)\n",
        "print(\"Value to compare:\")\n",
        "print(a)\n",
        "index = (np.abs(x-a)).argmin()\n",
        "print(x[index])"
      ]
    },
    {
      "cell_type": "markdown",
      "metadata": {
        "id": "zEnZZpmEL39Y"
      },
      "source": [
        "#### 51. Create a structured array representing a position (x,y) and a color (r,g,b) (★★☆) \n",
        "(**hint**: dtype)"
      ]
    },
    {
      "cell_type": "code",
      "execution_count": null,
      "metadata": {
        "colab": {
          "base_uri": "https://localhost:8080/"
        },
        "id": "Zxx5aT_UL39Y",
        "outputId": "ca288314-3f74-4df1-b534-269e451d3be6"
      },
      "outputs": [
        {
          "output_type": "stream",
          "name": "stdout",
          "text": [
            "[((0., 0.), (0., 0., 0.)) ((0., 0.), (0., 0., 0.))\n",
            " ((0., 0.), (0., 0., 0.)) ((0., 0.), (0., 0., 0.))\n",
            " ((0., 0.), (0., 0., 0.)) ((0., 0.), (0., 0., 0.))\n",
            " ((0., 0.), (0., 0., 0.)) ((0., 0.), (0., 0., 0.))\n",
            " ((0., 0.), (0., 0., 0.)) ((0., 0.), (0., 0., 0.))]\n"
          ]
        },
        {
          "output_type": "stream",
          "name": "stderr",
          "text": [
            "/usr/local/lib/python3.7/dist-packages/ipykernel_launcher.py:5: FutureWarning: Passing (type, 1) or '1type' as a synonym of type is deprecated; in a future version of numpy, it will be understood as (type, (1,)) / '(1,)type'.\n",
            "  \"\"\"\n"
          ]
        }
      ],
      "source": [
        "Z = np.zeros(10, [ ('position', [ ('x', float, 1),\n",
        "                                  ('y', float, 1)]),\n",
        "                   ('color',    [ ('r', float, 1),\n",
        "                                  ('g', float, 1),\n",
        "                                  ('b', float, 1)])])\n",
        "print(Z)"
      ]
    },
    {
      "cell_type": "markdown",
      "metadata": {
        "id": "mSDckoFfL39Z"
      },
      "source": [
        "#### 52. Consider a random vector with shape (100,2) representing coordinates, find point by point distances (★★☆) \n",
        "(**hint**: np.atleast\\_2d, T, np.sqrt)"
      ]
    },
    {
      "cell_type": "code",
      "execution_count": null,
      "metadata": {
        "colab": {
          "base_uri": "https://localhost:8080/"
        },
        "id": "CFhIOt4GL39a",
        "outputId": "8f487c19-e723-4ca1-c0e5-8783140bb1c3"
      },
      "outputs": [
        {
          "output_type": "execute_result",
          "data": {
            "text/plain": [
              "array([[0.        , 0.65088354, 0.56708059, 0.78665829, 0.26682666,\n",
              "        0.25075057, 0.5333185 , 0.19283986, 0.61905475, 0.65523458],\n",
              "       [0.65088354, 0.        , 0.30810614, 0.26664995, 0.60656293,\n",
              "        0.41156316, 0.23642659, 0.4750613 , 0.40360872, 0.17453456],\n",
              "       [0.56708059, 0.30810614, 0.        , 0.2474056 , 0.40254571,\n",
              "        0.33043848, 0.45122534, 0.37690606, 0.10389589, 0.16280633],\n",
              "       [0.78665829, 0.26664995, 0.2474056 , 0.        , 0.64869642,\n",
              "        0.53717694, 0.49662903, 0.59397914, 0.28002807, 0.13704874],\n",
              "       [0.26682666, 0.60656293, 0.40254571, 0.64869642, 0.        ,\n",
              "        0.23890916, 0.59055352, 0.19906875, 0.41603478, 0.53956572],\n",
              "       [0.25075057, 0.41156316, 0.33043848, 0.53717694, 0.23890916,\n",
              "        0.        , 0.353415  , 0.06350539, 0.40110296, 0.40465457],\n",
              "       [0.5333185 , 0.23642659, 0.45122534, 0.49662903, 0.59055352,\n",
              "        0.353415  , 0.        , 0.40656704, 0.55504111, 0.37960177],\n",
              "       [0.19283986, 0.4750613 , 0.37690606, 0.59397914, 0.19906875,\n",
              "        0.06350539, 0.40656704, 0.        , 0.43755144, 0.46348983],\n",
              "       [0.61905475, 0.40360872, 0.10389589, 0.28002807, 0.41603478,\n",
              "        0.40110296, 0.55504111, 0.43755144, 0.        , 0.24141358],\n",
              "       [0.65523458, 0.17453456, 0.16280633, 0.13704874, 0.53956572,\n",
              "        0.40465457, 0.37960177, 0.46348983, 0.24141358, 0.        ]])"
            ]
          },
          "metadata": {},
          "execution_count": 87
        }
      ],
      "source": [
        "a= np.random.random((10,2))\n",
        "x,y = np.atleast_2d(a[:,0], a[:,1])\n",
        "d = np.sqrt( (x-x.T)**2 + (y-y.T)**2)\n",
        "d"
      ]
    },
    {
      "cell_type": "markdown",
      "metadata": {
        "id": "VA5hLAHuL39a"
      },
      "source": [
        "#### 53. How to convert a float (32 bits) array into an integer (32 bits) in place? \n",
        "(**hint**: astype(copy=False))"
      ]
    },
    {
      "cell_type": "code",
      "execution_count": null,
      "metadata": {
        "colab": {
          "base_uri": "https://localhost:8080/"
        },
        "id": "j0QOQhHTL39b",
        "outputId": "5608fb52-54a4-4464-c576-37e6602734cf"
      },
      "outputs": [
        {
          "output_type": "stream",
          "name": "stdout",
          "text": [
            "[0. 1. 2. 3. 4. 5. 6. 7. 8. 9.]\n"
          ]
        },
        {
          "output_type": "execute_result",
          "data": {
            "text/plain": [
              "array([0, 1, 2, 3, 4, 5, 6, 7, 8, 9], dtype=int32)"
            ]
          },
          "metadata": {},
          "execution_count": 88
        }
      ],
      "source": [
        "Z = np.arange(10, dtype=np.float32)\n",
        "print(Z)\n",
        "Z=Z.astype(np.int32, copy=False)\n",
        "Z"
      ]
    },
    {
      "cell_type": "markdown",
      "metadata": {
        "id": "IlfWQgHTL39b"
      },
      "source": [
        "#### 54. How to read the following file? (★★☆) \n",
        "(**hint**: np.genfromtxt)"
      ]
    },
    {
      "cell_type": "markdown",
      "metadata": {
        "id": "ksqvRzJ_L39d"
      },
      "source": [
        "```\n",
        "1, 2, 3, 4, 5\n",
        "6,  ,  , 7, 8\n",
        " ,  , 9,10,11\n",
        "```"
      ]
    },
    {
      "cell_type": "code",
      "execution_count": null,
      "metadata": {
        "colab": {
          "base_uri": "https://localhost:8080/"
        },
        "id": "FHAwhbnjL39d",
        "outputId": "d2c8aee7-7d4f-4e24-ffd4-eb786b4de0f0"
      },
      "outputs": [
        {
          "output_type": "stream",
          "name": "stdout",
          "text": [
            "[[ 1  2  3  4  5]\n",
            " [ 6 -1 -1  7  8]\n",
            " [-1 -1  9 10 11]]\n"
          ]
        },
        {
          "output_type": "stream",
          "name": "stderr",
          "text": [
            "/usr/local/lib/python3.7/dist-packages/ipykernel_launcher.py:6: DeprecationWarning: `np.int` is a deprecated alias for the builtin `int`. To silence this warning, use `int` by itself. Doing this will not modify any behavior and is safe. When replacing `np.int`, you may wish to use e.g. `np.int64` or `np.int32` to specify the precision. If you wish to review your current use, check the release note link for additional information.\n",
            "Deprecated in NumPy 1.20; for more details and guidance: https://numpy.org/devdocs/release/1.20.0-notes.html#deprecations\n",
            "  \n"
          ]
        }
      ],
      "source": [
        "from io import StringIO\n",
        "\n",
        "s = StringIO(\"\"\"1, 2, 3, 4, 5\n",
        "                6,  ,  , 7, 8\n",
        "                 ,  , 9,10,11\"\"\")\n",
        "Z = np.genfromtxt(s, delimiter=\",\", dtype=np.int)\n",
        "print(Z)"
      ]
    },
    {
      "cell_type": "markdown",
      "metadata": {
        "id": "FYTjBBsVL39e"
      },
      "source": [
        "#### 55. What is the equivalent of enumerate for numpy arrays? (★★☆) \n",
        "(**hint**: np.ndenumerate, np.ndindex)"
      ]
    },
    {
      "cell_type": "code",
      "execution_count": null,
      "metadata": {
        "colab": {
          "base_uri": "https://localhost:8080/"
        },
        "id": "9SWCwckIL39f",
        "outputId": "d001f20c-878e-417e-cc9e-dc4cfad0106b"
      },
      "outputs": [
        {
          "output_type": "stream",
          "name": "stdout",
          "text": [
            "[[0 1 2]\n",
            " [3 4 5]\n",
            " [6 7 8]]\n",
            "Using ndenumerate : \n",
            " [((0, 0), 0), ((0, 1), 1), ((0, 2), 2), ((1, 0), 3), ((1, 1), 4), ((1, 2), 5), ((2, 0), 6), ((2, 1), 7), ((2, 2), 8)] \n",
            "\n",
            "Using np.ndindex : \n",
            "\n",
            "[((0, 0), 0), ((0, 1), 1), ((0, 2), 2), ((1, 0), 3), ((1, 1), 4), ((1, 2), 5), ((2, 0), 6), ((2, 1), 7), ((2, 2), 8)]\n"
          ]
        }
      ],
      "source": [
        "Z = np.arange(9).reshape(3,3)\n",
        "print(Z)\n",
        "print(\"Using ndenumerate : \\n\", list(np.ndenumerate(Z)),'\\n')\n",
        "print(\"Using np.ndindex : \\n\")\n",
        "l=[]\n",
        "for index in np.ndindex(Z.shape):\n",
        "    l.append((index, Z[index]))\n",
        "print(l)"
      ]
    },
    {
      "cell_type": "markdown",
      "metadata": {
        "id": "KWCiD6-fL39g"
      },
      "source": [
        "#### 56. Generate a generic 2D Gaussian-like array (★★☆) \n",
        "(**hint**: np.meshgrid, np.exp)"
      ]
    },
    {
      "cell_type": "code",
      "execution_count": null,
      "metadata": {
        "colab": {
          "base_uri": "https://localhost:8080/"
        },
        "id": "0kZbp5E9L39g",
        "outputId": "3304f676-5505-412a-9b47-5fbe745ffe7e"
      },
      "outputs": [
        {
          "output_type": "stream",
          "name": "stdout",
          "text": [
            "[[0.36787944 0.44822088 0.51979489 0.57375342 0.60279818 0.60279818\n",
            "  0.57375342 0.51979489 0.44822088 0.36787944]\n",
            " [0.44822088 0.54610814 0.63331324 0.69905581 0.73444367 0.73444367\n",
            "  0.69905581 0.63331324 0.54610814 0.44822088]\n",
            " [0.51979489 0.63331324 0.73444367 0.81068432 0.85172308 0.85172308\n",
            "  0.81068432 0.73444367 0.63331324 0.51979489]\n",
            " [0.57375342 0.69905581 0.81068432 0.89483932 0.9401382  0.9401382\n",
            "  0.89483932 0.81068432 0.69905581 0.57375342]\n",
            " [0.60279818 0.73444367 0.85172308 0.9401382  0.98773022 0.98773022\n",
            "  0.9401382  0.85172308 0.73444367 0.60279818]\n",
            " [0.60279818 0.73444367 0.85172308 0.9401382  0.98773022 0.98773022\n",
            "  0.9401382  0.85172308 0.73444367 0.60279818]\n",
            " [0.57375342 0.69905581 0.81068432 0.89483932 0.9401382  0.9401382\n",
            "  0.89483932 0.81068432 0.69905581 0.57375342]\n",
            " [0.51979489 0.63331324 0.73444367 0.81068432 0.85172308 0.85172308\n",
            "  0.81068432 0.73444367 0.63331324 0.51979489]\n",
            " [0.44822088 0.54610814 0.63331324 0.69905581 0.73444367 0.73444367\n",
            "  0.69905581 0.63331324 0.54610814 0.44822088]\n",
            " [0.36787944 0.44822088 0.51979489 0.57375342 0.60279818 0.60279818\n",
            "  0.57375342 0.51979489 0.44822088 0.36787944]]\n"
          ]
        }
      ],
      "source": [
        "X, Y = np.meshgrid(np.linspace(-1,1,10), np.linspace(-1,1,10))\n",
        "D = np.sqrt(X*X+Y*Y)\n",
        "sigma, mu = 1.0, 0.0\n",
        "G = np.exp(-( (D-mu)**2 / ( 2.0 * sigma**2 ) ) )\n",
        "print(G)"
      ]
    },
    {
      "cell_type": "markdown",
      "metadata": {
        "id": "egTr64DuL39h"
      },
      "source": [
        "#### 57. How to randomly place p elements in a 2D array? (★★☆) \n",
        "(**hint**: np.put, np.random.choice)"
      ]
    },
    {
      "cell_type": "code",
      "execution_count": null,
      "metadata": {
        "colab": {
          "base_uri": "https://localhost:8080/"
        },
        "id": "vFRXBn-GL39i",
        "outputId": "5989834d-6512-442f-c104-5e53c3e2f89d"
      },
      "outputs": [
        {
          "output_type": "stream",
          "name": "stdout",
          "text": [
            "[[ 0.  0.  0.  0.  0.  0.  0.  0.  0.  0.]\n",
            " [ 0.  0.  0.  0.  0.  0.  0.  0.  0.  0.]\n",
            " [ 0.  0.  0.  0.  0.  0.  0.  0.  0.  0.]\n",
            " [ 0.  0.  0.  0. 78.  0.  0.  0.  0.  0.]\n",
            " [ 0.  0.  0.  0.  0.  0. 55.  0.  0.  0.]\n",
            " [ 0.  0.  0.  0.  0.  0.  0.  0.  0.  0.]\n",
            " [ 0.  0.  0.  0.  0.  0.  0.  0.  0.  0.]\n",
            " [ 0.  0.  0.  0.  0.  0.  0.  0.  0.  0.]\n",
            " [ 0. 33.  0.  0.  0.  0.  0.  0.  0.  0.]\n",
            " [ 0.  0.  0.  0.  0.  0.  0.  0.  0.  0.]]\n"
          ]
        }
      ],
      "source": [
        "n = 10\n",
        "p = 3\n",
        "Z = np.zeros((n,n))\n",
        "t= np.random.choice(range(n*n), p, replace=False)\n",
        "np.put(Z,t,[33,55,78])\n",
        "print(Z)"
      ]
    },
    {
      "cell_type": "markdown",
      "metadata": {
        "id": "5dsfheHEL39i"
      },
      "source": [
        "#### 58. Subtract the mean of each row of a matrix (★★☆) \n",
        "(**hint**: mean(axis=,keepdims=))"
      ]
    },
    {
      "cell_type": "code",
      "execution_count": null,
      "metadata": {
        "colab": {
          "base_uri": "https://localhost:8080/"
        },
        "id": "xbPeoWi_L39j",
        "outputId": "8fa92964-1aea-4d7f-f014-20448248d904"
      },
      "outputs": [
        {
          "output_type": "execute_result",
          "data": {
            "text/plain": [
              "array([[-0.00144745,  0.19769394,  0.13829605,  0.29461939,  0.25566894,\n",
              "        -0.02261543, -0.52698932, -0.33786951, -0.34313261,  0.34577601],\n",
              "       [ 0.08167145,  0.14079056, -0.1483498 ,  0.42539087, -0.41181843,\n",
              "        -0.18667643,  0.06238301, -0.15001255, -0.08673147,  0.27335277],\n",
              "       [-0.28465307,  0.44882899, -0.50176729, -0.29353419,  0.06477744,\n",
              "        -0.5231445 ,  0.39696361,  0.03993795,  0.30209075,  0.35050032],\n",
              "       [ 0.14274422, -0.35173686, -0.3117306 ,  0.01925091,  0.20845628,\n",
              "         0.13331469, -0.02280545,  0.33183095, -0.01246044, -0.13686368],\n",
              "       [ 0.17619182,  0.0345026 , -0.3221784 ,  0.164369  ,  0.13832239,\n",
              "        -0.55976102,  0.04516654,  0.12986459,  0.15720935,  0.03631313]])"
            ]
          },
          "metadata": {},
          "execution_count": 93
        }
      ],
      "source": [
        "X = np.random.rand(5, 10)\n",
        "Y = X - X.mean(axis=1, keepdims=True)\n",
        "Y"
      ]
    },
    {
      "cell_type": "markdown",
      "metadata": {
        "id": "z7BHCNYyL39k"
      },
      "source": [
        "#### 59. How to sort an array by the nth column? (★★☆) \n",
        "(**hint**: argsort)"
      ]
    },
    {
      "cell_type": "code",
      "execution_count": null,
      "metadata": {
        "colab": {
          "base_uri": "https://localhost:8080/"
        },
        "id": "Qc9IDg3FL39l",
        "outputId": "6609e226-62a3-4580-a6cd-4e4264a366ef"
      },
      "outputs": [
        {
          "output_type": "stream",
          "name": "stdout",
          "text": [
            "[[2 6 0]\n",
            " [9 7 2]\n",
            " [3 7 4]] \n",
            "\n",
            "[6 7 7] \n",
            "\n",
            "[0 1 2] \n",
            "\n",
            "[[2 6 0]\n",
            " [9 7 2]\n",
            " [3 7 4]]\n"
          ]
        }
      ],
      "source": [
        "A= np.random.randint(0,10,(3,3))\n",
        "print(A,'\\n')\n",
        "print(A[:,1],\"\\n\")\n",
        "print(A[:,1].argsort(),\"\\n\")\n",
        "print(A[A[:,1].argsort()])"
      ]
    },
    {
      "cell_type": "markdown",
      "metadata": {
        "id": "BS-EZ3pHL39l"
      },
      "source": [
        "#### 60. How to tell if a given 2D array has null columns? (★★☆) \n",
        "(**hint**: any, ~)"
      ]
    },
    {
      "cell_type": "code",
      "execution_count": null,
      "metadata": {
        "colab": {
          "base_uri": "https://localhost:8080/"
        },
        "id": "Y6KOIElOL39m",
        "outputId": "5235dd9d-bd8c-4247-c7ec-8adab3d638ed"
      },
      "outputs": [
        {
          "output_type": "stream",
          "name": "stdout",
          "text": [
            "[[2 1 2 0 0 1 0 2 2 2]\n",
            " [1 1 2 2 1 2 1 1 2 2]\n",
            " [1 2 0 0 2 0 2 2 1 1]] \n",
            "\n",
            "[False False False False False False False False False False] \n",
            "\n",
            "False\n"
          ]
        }
      ],
      "source": [
        "Z = np.random.randint(0,3,(3,10))\n",
        "print(Z,\"\\n\")\n",
        "print((~Z.any(axis=0)),\"\\n\")\n",
        "print((~Z.any(axis=0)).any())"
      ]
    },
    {
      "cell_type": "markdown",
      "metadata": {
        "id": "17qnf7PRL39n"
      },
      "source": [
        "#### 61. Find the nearest value from a given value in an array (★★☆) \n",
        "(**hint**: np.abs, argmin, flat)"
      ]
    },
    {
      "cell_type": "code",
      "execution_count": null,
      "metadata": {
        "colab": {
          "base_uri": "https://localhost:8080/"
        },
        "id": "RtQ1YRKeL39o",
        "outputId": "23b8432e-d69d-4d8f-aceb-e1fe9dccc53b"
      },
      "outputs": [
        {
          "output_type": "stream",
          "name": "stdout",
          "text": [
            "0.5034889877518652\n"
          ]
        }
      ],
      "source": [
        "Z = np.random.uniform(0,1,10)\n",
        "z = 0.5\n",
        "m = Z.flat[np.abs(Z - z).argmin()]\n",
        "print(m)"
      ]
    },
    {
      "cell_type": "markdown",
      "metadata": {
        "id": "hnPmW333L39o"
      },
      "source": [
        "#### 62. Considering two arrays with shape (1,3) and (3,1), how to compute their sum using an iterator? (★★☆) \n",
        "(**hint**: np.nditer)"
      ]
    },
    {
      "cell_type": "code",
      "execution_count": null,
      "metadata": {
        "colab": {
          "base_uri": "https://localhost:8080/"
        },
        "id": "ppJXO0W4L39p",
        "outputId": "b4d76195-5733-44d0-dedb-7c05e0d9b47e"
      },
      "outputs": [
        {
          "output_type": "stream",
          "name": "stdout",
          "text": [
            "[[0 1 2]\n",
            " [1 2 3]\n",
            " [2 3 4]]\n"
          ]
        }
      ],
      "source": [
        "A = np.arange(3).reshape(3,1)\n",
        "B = np.arange(3).reshape(1,3)\n",
        "it = np.nditer([A,B,None])\n",
        "for x,y,z in it: z[...] = x + y\n",
        "print(it.operands[2])"
      ]
    },
    {
      "cell_type": "markdown",
      "metadata": {
        "id": "yhZKpDMSL39q"
      },
      "source": [
        "#### 63. Create an array class that has a name attribute (★★☆) \n",
        "(**hint**: class method)"
      ]
    },
    {
      "cell_type": "code",
      "execution_count": null,
      "metadata": {
        "colab": {
          "base_uri": "https://localhost:8080/"
        },
        "id": "2kuvoUYiL39q",
        "outputId": "2846e358-1b90-4e65-a50b-f9046e56cdd2"
      },
      "outputs": [
        {
          "output_type": "stream",
          "name": "stdout",
          "text": [
            "[0 1 2 3 4 5 6 7 8 9]\n"
          ]
        }
      ],
      "source": [
        "class NamedArray(np.ndarray):\n",
        "    def __new__(cls, array, name=\"no name\"):\n",
        "        obj = np.asarray(array).view(cls)\n",
        "        obj.name = name\n",
        "        return obj\n",
        "    def __array_finalize__(self, obj):\n",
        "        if obj is None: return\n",
        "        self.info = getattr(obj, 'name', \"no name\")\n",
        "\n",
        "Z = NamedArray(np.arange(10), \"Array1\")\n",
        "print (Z)"
      ]
    },
    {
      "cell_type": "markdown",
      "metadata": {
        "id": "XBxnWMpeL39r"
      },
      "source": [
        "#### 64. Consider a given vector, how to add 1 to each element indexed by a second vector (be careful with repeated indices)? (★★★) \n",
        "(**hint**: np.bincount | np.add.at)"
      ]
    },
    {
      "cell_type": "code",
      "execution_count": null,
      "metadata": {
        "colab": {
          "base_uri": "https://localhost:8080/"
        },
        "id": "GvBpdgkBL39s",
        "outputId": "0f2831d1-b900-474b-a0e8-ab61fbd25682"
      },
      "outputs": [
        {
          "output_type": "stream",
          "name": "stdout",
          "text": [
            "[1. 1. 1. 1. 1. 1. 1. 1. 1. 1.]\n",
            "[2. 3. 2. 5. 4. 1. 2. 4. 3. 4.]\n"
          ]
        }
      ],
      "source": [
        "Z = np.ones(10)\n",
        "print(Z)\n",
        "I = np.random.randint(0,len(Z),20)\n",
        "\n",
        "np.add.at(Z, I, 1)\n",
        "print(Z)"
      ]
    },
    {
      "cell_type": "markdown",
      "metadata": {
        "id": "lOVMg4jyL39s"
      },
      "source": [
        "#### 65. How to accumulate elements of a vector (X) to an array (F) based on an index list (I)? (★★★) \n",
        "(**hint**: np.bincount)"
      ]
    },
    {
      "cell_type": "code",
      "execution_count": null,
      "metadata": {
        "colab": {
          "base_uri": "https://localhost:8080/"
        },
        "id": "HobXg1jKL39u",
        "outputId": "e945360b-58be-42bc-d1ed-99a41ec77cc5"
      },
      "outputs": [
        {
          "output_type": "stream",
          "name": "stdout",
          "text": [
            "[0. 7. 0. 6. 5. 0. 0. 0. 0. 3.]\n"
          ]
        }
      ],
      "source": [
        "X = [1,2,3,4,5,6]\n",
        "I = [1,3,9,3,4,1]\n",
        "F = np.bincount(I,X)\n",
        "print(F)"
      ]
    },
    {
      "cell_type": "markdown",
      "metadata": {
        "id": "OL-2PECBL39v"
      },
      "source": [
        "#### 66. Considering a (w,h,3) image of (dtype=ubyte), compute the number of unique colors (★★★) \n",
        "(**hint**: np.unique)"
      ]
    },
    {
      "cell_type": "code",
      "execution_count": null,
      "metadata": {
        "colab": {
          "base_uri": "https://localhost:8080/"
        },
        "id": "z8SSVCusL39w",
        "outputId": "2534982d-fbab-4cb9-a0e1-feb026123841"
      },
      "outputs": [
        {
          "output_type": "stream",
          "name": "stdout",
          "text": [
            "8\n"
          ]
        }
      ],
      "source": [
        "w,h = 16,16\n",
        "I = np.random.randint(0,2,(h,w,3)).astype(np.ubyte)\n",
        "F = I[...,0]*(256*256) + I[...,1]*256 +I[...,2]\n",
        "n = len(np.unique(F))\n",
        "print(n)"
      ]
    },
    {
      "cell_type": "markdown",
      "metadata": {
        "id": "74fO4AGHL39x"
      },
      "source": [
        "#### 67. Considering a four dimensions array, how to get sum over the last two axis at once? (★★★) \n",
        "(**hint**: sum(axis=(-2,-1)))"
      ]
    },
    {
      "cell_type": "code",
      "execution_count": null,
      "metadata": {
        "colab": {
          "base_uri": "https://localhost:8080/"
        },
        "id": "3qU-iee-L39y",
        "outputId": "14b2137f-5cc6-49cd-aa05-650dba5ba5b8"
      },
      "outputs": [
        {
          "output_type": "stream",
          "name": "stdout",
          "text": [
            "[[63 43 62 50]\n",
            " [49 33 48 67]\n",
            " [45 52 52 66]]\n"
          ]
        }
      ],
      "source": [
        "A = np.random.randint(0,10,(3,4,3,4))\n",
        "sum = A.sum(axis=(-2,-1))\n",
        "print(sum)"
      ]
    },
    {
      "cell_type": "markdown",
      "metadata": {
        "id": "oM9dbtFoL39y"
      },
      "source": [
        "#### 68. Considering a one-dimensional vector D, how to compute means of subsets of D using a vector S of same size describing subset  indices? (★★★) \n",
        "(**hint**: np.bincount)"
      ]
    },
    {
      "cell_type": "code",
      "execution_count": null,
      "metadata": {
        "colab": {
          "base_uri": "https://localhost:8080/"
        },
        "id": "KEhnPg5aL39z",
        "outputId": "8b1d6328-015a-4905-fe12-e3da866c1db7"
      },
      "outputs": [
        {
          "output_type": "stream",
          "name": "stdout",
          "text": [
            "[0.63968438 0.41834491 0.41819733 0.38778382 0.4736395  0.70468701\n",
            " 0.45016225 0.60947447 0.59853599 0.58661845]\n"
          ]
        }
      ],
      "source": [
        "D = np.random.uniform(0,1,100)\n",
        "\n",
        "S = np.random.randint(0,10,100)\n",
        "D_sums = np.bincount(S, weights=D)\n",
        "\n",
        "D_counts = np.bincount(S)\n",
        "\n",
        "D_means = D_sums / D_counts\n",
        "print(D_means)"
      ]
    },
    {
      "cell_type": "markdown",
      "metadata": {
        "id": "nhD_vog9L39z"
      },
      "source": [
        "#### 69. How to get the diagonal of a dot product? (★★★) \n",
        "(**hint**: np.diag)"
      ]
    },
    {
      "cell_type": "code",
      "execution_count": null,
      "metadata": {
        "colab": {
          "base_uri": "https://localhost:8080/"
        },
        "id": "bRaBsW0NL390",
        "outputId": "05c5065d-1bbb-422c-d182-57b767fe42ad"
      },
      "outputs": [
        {
          "output_type": "execute_result",
          "data": {
            "text/plain": [
              "array([1.30248663, 1.66721797, 0.36908556, 1.0980671 ])"
            ]
          },
          "metadata": {},
          "execution_count": 104
        }
      ],
      "source": [
        "A = np.random.uniform(0,1,(4,4))\n",
        "B = np.random.uniform(0,1,(4,4))\n",
        "\n",
        "np.diag(np.dot(A, B))"
      ]
    },
    {
      "cell_type": "markdown",
      "metadata": {
        "id": "L5ouSRA2L390"
      },
      "source": [
        "#### 70. Consider the vector \\[1, 2, 3, 4, 5\\], how to build a new vector with 3 consecutive zeros interleaved between each value? (★★★) \n",
        "(**hint**: array\\[::4\\])"
      ]
    },
    {
      "cell_type": "code",
      "execution_count": null,
      "metadata": {
        "colab": {
          "base_uri": "https://localhost:8080/"
        },
        "id": "B5Wz9vv0L391",
        "outputId": "72efde7b-3935-4024-f5df-0d444195a39f"
      },
      "outputs": [
        {
          "output_type": "stream",
          "name": "stdout",
          "text": [
            "[1. 0. 0. 0. 2. 0. 0. 0. 3. 0. 0. 0. 4. 0. 0. 0. 5.]\n"
          ]
        }
      ],
      "source": [
        "Z = np.array([1,2,3,4,5])\n",
        "nz = 3\n",
        "Z0 = np.zeros(len(Z) + (len(Z)-1)*(nz))\n",
        "Z0[::nz+1] = Z\n",
        "print(Z0)"
      ]
    },
    {
      "cell_type": "markdown",
      "metadata": {
        "id": "k3k8K-tXL391"
      },
      "source": [
        "#### 71. Consider an array of dimension (5,5,3), how to mulitply it by an array with dimensions (5,5)? (★★★) \n",
        "(**hint**: array\\[:, :, None\\])"
      ]
    },
    {
      "cell_type": "code",
      "execution_count": null,
      "metadata": {
        "collapsed": true,
        "colab": {
          "base_uri": "https://localhost:8080/"
        },
        "id": "8mxmL5h4L392",
        "outputId": "b0a7819b-4c8c-43b0-8ab1-dfa6c1edac3e"
      },
      "outputs": [
        {
          "output_type": "stream",
          "name": "stdout",
          "text": [
            "[[[2. 2. 2.]\n",
            "  [2. 2. 2.]\n",
            "  [2. 2. 2.]\n",
            "  [2. 2. 2.]\n",
            "  [2. 2. 2.]]\n",
            "\n",
            " [[2. 2. 2.]\n",
            "  [2. 2. 2.]\n",
            "  [2. 2. 2.]\n",
            "  [2. 2. 2.]\n",
            "  [2. 2. 2.]]\n",
            "\n",
            " [[2. 2. 2.]\n",
            "  [2. 2. 2.]\n",
            "  [2. 2. 2.]\n",
            "  [2. 2. 2.]\n",
            "  [2. 2. 2.]]\n",
            "\n",
            " [[2. 2. 2.]\n",
            "  [2. 2. 2.]\n",
            "  [2. 2. 2.]\n",
            "  [2. 2. 2.]\n",
            "  [2. 2. 2.]]\n",
            "\n",
            " [[2. 2. 2.]\n",
            "  [2. 2. 2.]\n",
            "  [2. 2. 2.]\n",
            "  [2. 2. 2.]\n",
            "  [2. 2. 2.]]]\n"
          ]
        }
      ],
      "source": [
        "A = np.ones((5,5,3))\n",
        "B = 2*np.ones((5,5))\n",
        "print(A * B[:,:,None])"
      ]
    },
    {
      "cell_type": "markdown",
      "metadata": {
        "id": "pmhydVV1L392"
      },
      "source": [
        "#### 72. How to swap two rows of an array? (★★★) \n",
        "(**hint**: array\\[\\[\\]\\] = array\\[\\[\\]\\])"
      ]
    },
    {
      "cell_type": "code",
      "execution_count": null,
      "metadata": {
        "colab": {
          "base_uri": "https://localhost:8080/"
        },
        "id": "4VNWWRmDL393",
        "outputId": "0dd73a0a-bb83-4313-b3e5-1b49afaac10d"
      },
      "outputs": [
        {
          "output_type": "stream",
          "name": "stdout",
          "text": [
            "[[ 0  1  2  3  4]\n",
            " [ 5  6  7  8  9]\n",
            " [10 11 12 13 14]\n",
            " [15 16 17 18 19]\n",
            " [20 21 22 23 24]] \n",
            "\n",
            "[[ 5  6  7  8  9]\n",
            " [ 0  1  2  3  4]\n",
            " [10 11 12 13 14]\n",
            " [15 16 17 18 19]\n",
            " [20 21 22 23 24]]\n"
          ]
        }
      ],
      "source": [
        "A = np.arange(25).reshape(5,5)\n",
        "print(A,\"\\n\")\n",
        "A[[0,1]] = A[[1,0]]\n",
        "print(A)"
      ]
    },
    {
      "cell_type": "markdown",
      "metadata": {
        "id": "8nPOTdCjL394"
      },
      "source": [
        "#### 73. Consider a set of 10 triplets describing 10 triangles (with shared vertices), find the set of unique line segments composing all the  triangles (★★★) \n",
        "(**hint**: repeat, np.roll, np.sort, view, np.unique)"
      ]
    },
    {
      "cell_type": "code",
      "execution_count": null,
      "metadata": {
        "colab": {
          "base_uri": "https://localhost:8080/"
        },
        "id": "wBzTwPOXL395",
        "outputId": "afff4580-c39a-4a01-c759-83ae52b4569a"
      },
      "outputs": [
        {
          "output_type": "stream",
          "name": "stdout",
          "text": [
            "[( 2, 58) ( 2, 65) ( 6, 16) ( 6, 53) ( 6, 82) ( 6, 97) (13, 53) (13, 78)\n",
            " (16, 97) (19, 32) (19, 41) (19, 86) (19, 89) (21, 47) (21, 66) (32, 89)\n",
            " (36, 83) (36, 84) (41, 86) (47, 66) (53, 78) (53, 82) (55, 66) (55, 85)\n",
            " (58, 65) (65, 71) (65, 99) (66, 85) (71, 99) (83, 84)]\n"
          ]
        }
      ],
      "source": [
        "faces = np.random.randint(0,100,(10,3))\n",
        "\n",
        "F = np.roll(faces.repeat(2,axis=1),-1,axis=1)\n",
        "F = F.reshape(len(F)*3,2)\n",
        "F = np.sort(F,axis=1)\n",
        "G = F.view( dtype=[('p0',F.dtype),('p1',F.dtype)] )\n",
        "G = np.unique(G)\n",
        "print(G)"
      ]
    },
    {
      "cell_type": "markdown",
      "metadata": {
        "id": "S0THEBuyL396"
      },
      "source": [
        "#### 74. Given an array C that is a bincount, how to produce an array A such that np.bincount(A) == C? (★★★) \n",
        "(**hint**: np.repeat)"
      ]
    },
    {
      "cell_type": "code",
      "execution_count": null,
      "metadata": {
        "colab": {
          "base_uri": "https://localhost:8080/"
        },
        "id": "jHHzkljSL397",
        "outputId": "b39b0e2c-5a75-4af7-84b1-179a91a3138a"
      },
      "outputs": [
        {
          "output_type": "stream",
          "name": "stdout",
          "text": [
            "[0 2 1 1 2 0 1]\n",
            "[0 1 2 3 4 5 6] \n",
            "\n",
            "[1 1 2 3 4 4 6]\n"
          ]
        }
      ],
      "source": [
        "C = np.bincount([1,1,2,3,4,4,6]) \n",
        "print(C)\n",
        "print(np.arange(len(C)),\"\\n\")\n",
        "A = np.repeat(np.arange(len(C)), C)\n",
        "print(A)"
      ]
    },
    {
      "cell_type": "markdown",
      "metadata": {
        "id": "MAQTNPBoL397"
      },
      "source": [
        "#### 75. How to compute averages using a sliding window over an array? (★★★) \n",
        "(**hint**: np.cumsum)"
      ]
    },
    {
      "cell_type": "code",
      "execution_count": null,
      "metadata": {
        "colab": {
          "base_uri": "https://localhost:8080/"
        },
        "id": "u6OrzrDeL398",
        "outputId": "c9f62c88-da13-4367-9f5a-54b587efec15"
      },
      "outputs": [
        {
          "output_type": "stream",
          "name": "stdout",
          "text": [
            "[ 1.  2.  3.  4.  5.  6.  7.  8.  9. 10. 11. 12. 13. 14. 15. 16. 17. 18.]\n"
          ]
        }
      ],
      "source": [
        "def moving_average(a, n=3) :\n",
        "    ret = np.cumsum(a, dtype=float)\n",
        "    ret[n:] = ret[n:] - ret[:-n]\n",
        "    return ret[n - 1:] / n\n",
        "Z = np.arange(20)\n",
        "print(moving_average(Z, n=3))"
      ]
    },
    {
      "cell_type": "markdown",
      "metadata": {
        "id": "TNIgLtHOL39_"
      },
      "source": [
        "#### 76. Consider a one-dimensional array Z, build a two-dimensional array whose first row is (Z\\[0\\],Z\\[1\\],Z\\[2\\]) and each subsequent row is  shifted by 1 (last row should be (Z\\[-3\\],Z\\[-2\\],Z\\[-1\\]) (★★★) \n",
        "(**hint**: from numpy.lib import stride_tricks)"
      ]
    },
    {
      "cell_type": "code",
      "execution_count": null,
      "metadata": {
        "colab": {
          "base_uri": "https://localhost:8080/"
        },
        "id": "idWo5zdiL3-A",
        "outputId": "8079fdc2-5ccf-4f17-a17d-345513d99f14"
      },
      "outputs": [
        {
          "output_type": "stream",
          "name": "stdout",
          "text": [
            "[[0 1 2]\n",
            " [1 2 3]\n",
            " [2 3 4]\n",
            " [3 4 5]\n",
            " [4 5 6]\n",
            " [5 6 7]\n",
            " [6 7 8]\n",
            " [7 8 9]]\n"
          ]
        }
      ],
      "source": [
        "from numpy.lib import stride_tricks\n",
        "\n",
        "def rolling(a, window):\n",
        "    shape = (a.size - window + 1, window)\n",
        "    strides = (a.itemsize, a.itemsize)\n",
        "    return stride_tricks.as_strided(a, shape=shape, strides=strides)\n",
        "Z = rolling(np.arange(10), 3)\n",
        "print(Z)"
      ]
    },
    {
      "cell_type": "markdown",
      "metadata": {
        "id": "ekavmKmpL3-A"
      },
      "source": [
        "#### 77. How to negate a boolean, or to change the sign of a float inplace? (★★★) \n",
        "(**hint**: np.logical_not, np.negative)"
      ]
    },
    {
      "cell_type": "code",
      "execution_count": null,
      "metadata": {
        "colab": {
          "base_uri": "https://localhost:8080/"
        },
        "id": "x450WLbsL3-B",
        "outputId": "e8f6e947-f5d4-4518-f377-af004910886e"
      },
      "outputs": [
        {
          "output_type": "stream",
          "name": "stdout",
          "text": [
            "[0 0 1 1 0 0 1 1 0 1 1 1 0 1 0 1 0 0 0 1 1 0 1 0 1 1 1 0 1 0 0 0 0 0 1 0 0\n",
            " 0 0 1 1 0 0 0 0 0 1 0 0 0 0 0 0 1 1 0 0 1 0 1 1 1 1 1 1 0 1 1 1 1 0 0 1 1\n",
            " 1 1 0 1 0 1 0 1 0 0 1 1 1 1 0 1 1 0 0 1 1 0 1 0 0 0] \n",
            "\n",
            "[1 1 0 0 1 1 0 0 1 0 0 0 1 0 1 0 1 1 1 0 0 1 0 1 0 0 0 1 0 1 1 1 1 1 0 1 1\n",
            " 1 1 0 0 1 1 1 1 1 0 1 1 1 1 1 1 0 0 1 1 0 1 0 0 0 0 0 0 1 0 0 0 0 1 1 0 0\n",
            " 0 0 1 0 1 0 1 0 1 1 0 0 0 0 1 0 0 1 1 0 0 1 0 1 1 1]\n",
            "[ 2.21771817e-01 -3.48004700e-01 -4.06930299e-01 -7.97943490e-01\n",
            "  1.84942734e-01  1.75704865e-01  8.70350968e-01 -4.06262283e-02\n",
            " -8.12763371e-01 -6.35766606e-02 -3.63856489e-01  7.22963803e-01\n",
            " -5.71238151e-02  6.84707213e-01  4.30864606e-01 -8.50654588e-01\n",
            " -8.74217054e-01  8.83633805e-01 -4.66090474e-04 -2.75397212e-01\n",
            "  4.57287380e-01 -5.76672438e-01 -9.53860799e-02 -9.58672786e-01\n",
            "  9.88106578e-01  6.26851723e-01 -5.57859395e-01 -7.09151228e-01\n",
            " -7.29743558e-01 -7.61330401e-01  9.64587357e-02 -2.53746277e-02\n",
            "  7.67123849e-01 -6.81337507e-01  3.35127734e-01 -4.29632909e-01\n",
            " -5.85037548e-01  6.38097478e-01 -7.99380899e-01  3.98387664e-01\n",
            "  5.42541082e-01 -5.17633331e-01  2.45499713e-01 -7.27685323e-01\n",
            " -6.25713314e-01 -5.66230188e-02 -8.24274974e-01  7.87285683e-01\n",
            "  8.81589537e-01 -9.19241185e-01  9.38609902e-01  2.21379974e-01\n",
            " -2.90025750e-01 -6.40698793e-01  4.59448418e-01  5.76743289e-01\n",
            " -3.70543811e-01 -4.79166206e-01  6.13488679e-01 -1.14914942e-01\n",
            "  9.54518528e-01 -6.00331076e-01 -7.58605783e-01  8.73313527e-01\n",
            "  8.74301563e-04 -2.83730472e-01 -5.22024896e-01 -3.34920621e-01\n",
            " -3.82520759e-01  8.44306172e-01 -5.35530314e-01 -5.83490374e-02\n",
            " -7.24544162e-01  4.03051482e-01  7.81565948e-01  1.65426784e-01\n",
            " -2.56481204e-01 -8.00257578e-01  7.36438839e-01 -2.71000830e-02\n",
            " -1.32201174e-01  5.49541420e-01 -1.62002827e-01 -6.19427546e-01\n",
            "  7.30053423e-01  2.15618791e-01  6.35776595e-01  2.92825330e-01\n",
            "  7.56303118e-01  1.88773423e-01 -8.61944125e-02  6.09271723e-01\n",
            "  8.64939023e-01 -2.83686683e-01  1.04585009e-02 -5.90023686e-01\n",
            " -3.10700213e-01  3.99488287e-01 -3.11566344e-01 -6.13143350e-01]\n"
          ]
        },
        {
          "output_type": "execute_result",
          "data": {
            "text/plain": [
              "array([-2.21771817e-01,  3.48004700e-01,  4.06930299e-01,  7.97943490e-01,\n",
              "       -1.84942734e-01, -1.75704865e-01, -8.70350968e-01,  4.06262283e-02,\n",
              "        8.12763371e-01,  6.35766606e-02,  3.63856489e-01, -7.22963803e-01,\n",
              "        5.71238151e-02, -6.84707213e-01, -4.30864606e-01,  8.50654588e-01,\n",
              "        8.74217054e-01, -8.83633805e-01,  4.66090474e-04,  2.75397212e-01,\n",
              "       -4.57287380e-01,  5.76672438e-01,  9.53860799e-02,  9.58672786e-01,\n",
              "       -9.88106578e-01, -6.26851723e-01,  5.57859395e-01,  7.09151228e-01,\n",
              "        7.29743558e-01,  7.61330401e-01, -9.64587357e-02,  2.53746277e-02,\n",
              "       -7.67123849e-01,  6.81337507e-01, -3.35127734e-01,  4.29632909e-01,\n",
              "        5.85037548e-01, -6.38097478e-01,  7.99380899e-01, -3.98387664e-01,\n",
              "       -5.42541082e-01,  5.17633331e-01, -2.45499713e-01,  7.27685323e-01,\n",
              "        6.25713314e-01,  5.66230188e-02,  8.24274974e-01, -7.87285683e-01,\n",
              "       -8.81589537e-01,  9.19241185e-01, -9.38609902e-01, -2.21379974e-01,\n",
              "        2.90025750e-01,  6.40698793e-01, -4.59448418e-01, -5.76743289e-01,\n",
              "        3.70543811e-01,  4.79166206e-01, -6.13488679e-01,  1.14914942e-01,\n",
              "       -9.54518528e-01,  6.00331076e-01,  7.58605783e-01, -8.73313527e-01,\n",
              "       -8.74301563e-04,  2.83730472e-01,  5.22024896e-01,  3.34920621e-01,\n",
              "        3.82520759e-01, -8.44306172e-01,  5.35530314e-01,  5.83490374e-02,\n",
              "        7.24544162e-01, -4.03051482e-01, -7.81565948e-01, -1.65426784e-01,\n",
              "        2.56481204e-01,  8.00257578e-01, -7.36438839e-01,  2.71000830e-02,\n",
              "        1.32201174e-01, -5.49541420e-01,  1.62002827e-01,  6.19427546e-01,\n",
              "       -7.30053423e-01, -2.15618791e-01, -6.35776595e-01, -2.92825330e-01,\n",
              "       -7.56303118e-01, -1.88773423e-01,  8.61944125e-02, -6.09271723e-01,\n",
              "       -8.64939023e-01,  2.83686683e-01, -1.04585009e-02,  5.90023686e-01,\n",
              "        3.10700213e-01, -3.99488287e-01,  3.11566344e-01,  6.13143350e-01])"
            ]
          },
          "metadata": {},
          "execution_count": 112
        }
      ],
      "source": [
        "Z = np.random.randint(0,2,100)\n",
        "print(Z,\"\\n\")\n",
        "print(np.logical_not(Z, out=Z))\n",
        "\n",
        "Z = np.random.uniform(-1.0,1.0,100)\n",
        "print(Z)\n",
        "np.negative(Z, out=Z)"
      ]
    },
    {
      "cell_type": "markdown",
      "metadata": {
        "id": "q67KyM7zL3-C"
      },
      "source": [
        "#### 78. Consider 2 sets of points P0,P1 describing lines (2d) and a point p, how to compute distance from p to each line i  (P0\\[i\\],P1\\[i\\])? (★★★)"
      ]
    },
    {
      "cell_type": "code",
      "execution_count": null,
      "metadata": {
        "colab": {
          "base_uri": "https://localhost:8080/"
        },
        "id": "CdvJnAWRL3-D",
        "outputId": "b1e2393e-de4c-45b6-c975-b5157433cb7b"
      },
      "outputs": [
        {
          "output_type": "stream",
          "name": "stdout",
          "text": [
            "[ 5.20301065  7.23488126 11.23976614  5.58342603  9.98974396  3.82246681\n",
            "  2.44363365 12.48666047  3.64863176  9.30697202]\n"
          ]
        }
      ],
      "source": [
        "def distance(P0, P1, p):\n",
        "    T = P1 - P0\n",
        "    L = (T**2).sum(axis=1)\n",
        "    U = -((P0[:,0]-p[...,0])*T[:,0] + (P0[:,1]-p[...,1])*T[:,1]) / L\n",
        "    U = U.reshape(len(U),1)\n",
        "    D = P0 + U*T - p\n",
        "    return np.sqrt((D**2).sum(axis=1))\n",
        "\n",
        "P0 = np.random.uniform(-10,10,(10,2))\n",
        "P1 = np.random.uniform(-10,10,(10,2))\n",
        "p  = np.random.uniform(-10,10,( 1,2))\n",
        "print(distance(P0, P1, p))"
      ]
    },
    {
      "cell_type": "markdown",
      "metadata": {
        "id": "K5l6BIj3L3-D"
      },
      "source": [
        "#### 79. Consider 2 sets of points P0,P1 describing lines (2d) and a set of points P, how to compute distance from each point j (P\\[j\\]) to each line i (P0\\[i\\],P1\\[i\\])? (★★★)"
      ]
    },
    {
      "cell_type": "code",
      "execution_count": null,
      "metadata": {
        "colab": {
          "base_uri": "https://localhost:8080/"
        },
        "id": "_JdEKczJL3-E",
        "outputId": "3ea58271-bdd1-4f1f-c954-ce8e3534f0a6"
      },
      "outputs": [
        {
          "output_type": "stream",
          "name": "stdout",
          "text": [
            "[[11.62473464  7.86529998  8.70614376 10.16402728 10.46819     3.17728237\n",
            "   2.68415715  8.26410624 13.63585185  2.69088974]\n",
            " [ 5.889665    1.88022625  9.96571267  5.24900643  5.8563313   0.69005719\n",
            "   3.51740534  2.62104062  8.73253999  5.79986389]\n",
            " [ 3.27746304  0.55357887 12.71421792  2.3481258   6.23917209  3.6995426\n",
            "   5.68058618  2.13836623  8.90373257  8.79449765]\n",
            " [ 7.18806396  3.49250707 11.595011    5.778825    9.08659818  0.91310671\n",
            "   1.53108136  5.73632926 11.95933788  6.485601  ]\n",
            " [ 3.38317548  0.96031546  8.84352549  3.61022093  1.93067495  1.42040738\n",
            "   6.73654428  1.45086648  4.74018669  5.94452796]\n",
            " [12.33350734  6.99710199  3.41382623 14.41440468  2.62411995 10.52087315\n",
            "   0.18854719  2.52320773  1.01360335  6.37754268]\n",
            " [ 2.98976492  2.33903663  1.72574491  5.46662912  6.61228194  2.44837979\n",
            "   9.35321914  8.7533699   3.56140917  0.92868881]\n",
            " [ 7.91879735  2.78776722  0.51599123  9.7296007   2.79386341  5.84518227\n",
            "   4.06195054  4.02552278  0.51211512  1.83566899]\n",
            " [ 8.68607376  4.27042673  5.42183113  8.8421011   3.61764396  3.4506946\n",
            "   1.68882027  1.60039289  6.77852727  1.43157559]\n",
            " [ 9.22688981  4.48349257  2.68880517 10.10158614  1.06728048  5.31555462\n",
            "   1.89917835  0.37692375  4.3504877   0.75913443]]\n"
          ]
        }
      ],
      "source": [
        "P0 = np.random.uniform(-10, 10, (10,2))\n",
        "P1 = np.random.uniform(-10,10,(10,2))\n",
        "p = np.random.uniform(-10, 10, (10,2))\n",
        "print(np.array([distance(P0,P1,p_i) for p_i in p]))"
      ]
    },
    {
      "cell_type": "markdown",
      "metadata": {
        "id": "i5oH-375L3-F"
      },
      "source": [
        "#### 80. Consider an arbitrary array, write a function that extract a subpart with a fixed shape and centered on a given element (pad with a `fill` value when necessary) (★★★) \n",
        "(**hint**: minimum, maximum)"
      ]
    },
    {
      "cell_type": "code",
      "execution_count": null,
      "metadata": {
        "colab": {
          "base_uri": "https://localhost:8080/"
        },
        "id": "R1Jgar-6L3-G",
        "outputId": "d934ee3d-fd97-4cea-9bc6-6de62d3dfd27"
      },
      "outputs": [
        {
          "output_type": "stream",
          "name": "stdout",
          "text": [
            "[[0 9 2 6 8 1 7 4 6 3]\n",
            " [2 1 8 9 7 3 4 9 5 5]\n",
            " [5 9 8 6 6 0 5 7 0 2]\n",
            " [6 3 7 5 8 2 7 6 0 4]\n",
            " [5 9 9 9 1 3 5 5 9 3]\n",
            " [5 1 7 5 4 5 6 8 6 1]\n",
            " [3 9 7 1 2 0 8 8 7 8]\n",
            " [4 4 6 8 1 8 0 0 5 7]\n",
            " [2 5 3 2 6 4 4 8 4 3]\n",
            " [1 0 9 9 7 3 4 5 2 5]]\n",
            "[[0 0 0 0 0]\n",
            " [0 0 9 2 6]\n",
            " [0 2 1 8 9]\n",
            " [0 5 9 8 6]\n",
            " [0 6 3 7 5]]\n"
          ]
        },
        {
          "output_type": "stream",
          "name": "stderr",
          "text": [
            "/usr/local/lib/python3.7/dist-packages/ipykernel_launcher.py:23: FutureWarning: Using a non-tuple sequence for multidimensional indexing is deprecated; use `arr[tuple(seq)]` instead of `arr[seq]`. In the future this will be interpreted as an array index, `arr[np.array(seq)]`, which will result either in an error or a different result.\n"
          ]
        }
      ],
      "source": [
        "Z = np.random.randint(0,10,(10,10))\n",
        "shape = (5,5)\n",
        "fill  = 0\n",
        "position = (1,1)\n",
        "\n",
        "R = np.ones(shape, dtype=Z.dtype)*fill\n",
        "P  = np.array(list(position)).astype(int)\n",
        "Rs = np.array(list(R.shape)).astype(int)\n",
        "Zs = np.array(list(Z.shape)).astype(int)\n",
        "\n",
        "R_start = np.zeros((len(shape),)).astype(int)\n",
        "R_stop  = np.array(list(shape)).astype(int)\n",
        "Z_start = (P-Rs//2)\n",
        "Z_stop  = (P+Rs//2)+Rs%2\n",
        "\n",
        "R_start = (R_start - np.minimum(Z_start,0)).tolist()\n",
        "Z_start = (np.maximum(Z_start,0)).tolist()\n",
        "R_stop = np.maximum(R_start, (R_stop - np.maximum(Z_stop-Zs,0))).tolist()\n",
        "Z_stop = (np.minimum(Z_stop,Zs)).tolist()\n",
        "\n",
        "r = [slice(start,stop) for start,stop in zip(R_start,R_stop)]\n",
        "z = [slice(start,stop) for start,stop in zip(Z_start,Z_stop)]\n",
        "R[r] = Z[z]\n",
        "print(Z)\n",
        "print(R)"
      ]
    },
    {
      "cell_type": "markdown",
      "metadata": {
        "id": "1wTpnu05L3-G"
      },
      "source": [
        "#### 81. Consider an array Z = \\[1,2,3,4,5,6,7,8,9,10,11,12,13,14\\], how to generate an array R = \\[\\[1,2,3,4\\], \\[2,3,4,5\\], \\[3,4,5,6\\], ..., \\[11,12,13,14\\]\\]? (★★★) \n",
        "(**hint**: stride\\_tricks.as\\_strided)"
      ]
    },
    {
      "cell_type": "code",
      "execution_count": null,
      "metadata": {
        "colab": {
          "base_uri": "https://localhost:8080/"
        },
        "id": "VUoIpzp7L3-H",
        "outputId": "61c8e74c-53b7-4331-b653-77cb65c95d28"
      },
      "outputs": [
        {
          "output_type": "stream",
          "name": "stdout",
          "text": [
            "[[ 1  2  3  4]\n",
            " [ 2  3  4  5]\n",
            " [ 3  4  5  6]\n",
            " [ 4  5  6  7]\n",
            " [ 5  6  7  8]\n",
            " [ 6  7  8  9]\n",
            " [ 7  8  9 10]\n",
            " [ 8  9 10 11]\n",
            " [ 9 10 11 12]\n",
            " [10 11 12 13]\n",
            " [11 12 13 14]]\n"
          ]
        }
      ],
      "source": [
        "from numpy.lib import stride_tricks\n",
        "Z = np.arange(1,15,dtype=np.uint32)\n",
        "R = stride_tricks.as_strided(Z,(11,4),(4,4))\n",
        "print(R)"
      ]
    },
    {
      "cell_type": "markdown",
      "metadata": {
        "id": "8n6xppFvL3-I"
      },
      "source": [
        "#### 82. Compute a matrix rank (★★★) \n",
        "(**hint**: np.linalg.svd) (suggestion: np.linalg.svd)"
      ]
    },
    {
      "cell_type": "code",
      "execution_count": null,
      "metadata": {
        "colab": {
          "base_uri": "https://localhost:8080/"
        },
        "id": "5na_ww5bL3-I",
        "outputId": "526231ed-e7d7-416b-a713-191cc9f51441"
      },
      "outputs": [
        {
          "output_type": "stream",
          "name": "stdout",
          "text": [
            "10\n"
          ]
        }
      ],
      "source": [
        "Z = np.random.uniform(0,1,(10,10))\n",
        "U, S, V = np.linalg.svd(Z)\n",
        "rank = np.sum(S > 1e-10)\n",
        "print(rank)"
      ]
    },
    {
      "cell_type": "markdown",
      "metadata": {
        "id": "PWGIrYBYL3-J"
      },
      "source": [
        "#### 83. How to find the most frequent value in an array? \n",
        "(**hint**: np.bincount, argmax)"
      ]
    },
    {
      "cell_type": "code",
      "execution_count": null,
      "metadata": {
        "colab": {
          "base_uri": "https://localhost:8080/"
        },
        "id": "djMaiFvlL3-J",
        "outputId": "72611d10-1039-4c5c-ee6a-42d16beeb66f"
      },
      "outputs": [
        {
          "output_type": "stream",
          "name": "stdout",
          "text": [
            "5\n"
          ]
        }
      ],
      "source": [
        "Z = np.random.randint(0,10,50)\n",
        "print(np.bincount(Z).argmax())"
      ]
    },
    {
      "cell_type": "markdown",
      "metadata": {
        "id": "Nl1rdOzYL3-K"
      },
      "source": [
        "#### 84. Extract all the contiguous 3x3 blocks from a random 10x10 matrix (★★★) \n",
        "(**hint**: stride\\_tricks.as\\_strided)"
      ]
    },
    {
      "cell_type": "code",
      "execution_count": null,
      "metadata": {
        "colab": {
          "base_uri": "https://localhost:8080/"
        },
        "id": "LLz-zC9QL3-K",
        "outputId": "c0a2f0f7-ff90-4e60-fd0c-5c8bc43c510f"
      },
      "outputs": [
        {
          "output_type": "stream",
          "name": "stdout",
          "text": [
            "[[[[1 3 1]\n",
            "   [3 3 4]\n",
            "   [1 1 0]]\n",
            "\n",
            "  [[3 1 2]\n",
            "   [3 4 0]\n",
            "   [1 0 4]]\n",
            "\n",
            "  [[1 2 2]\n",
            "   [4 0 1]\n",
            "   [0 4 3]]\n",
            "\n",
            "  [[2 2 2]\n",
            "   [0 1 0]\n",
            "   [4 3 4]]\n",
            "\n",
            "  [[2 2 2]\n",
            "   [1 0 0]\n",
            "   [3 4 1]]\n",
            "\n",
            "  [[2 2 3]\n",
            "   [0 0 1]\n",
            "   [4 1 3]]\n",
            "\n",
            "  [[2 3 4]\n",
            "   [0 1 1]\n",
            "   [1 3 4]]\n",
            "\n",
            "  [[3 4 0]\n",
            "   [1 1 4]\n",
            "   [3 4 2]]]\n",
            "\n",
            "\n",
            " [[[3 3 4]\n",
            "   [1 1 0]\n",
            "   [3 2 2]]\n",
            "\n",
            "  [[3 4 0]\n",
            "   [1 0 4]\n",
            "   [2 2 3]]\n",
            "\n",
            "  [[4 0 1]\n",
            "   [0 4 3]\n",
            "   [2 3 0]]\n",
            "\n",
            "  [[0 1 0]\n",
            "   [4 3 4]\n",
            "   [3 0 4]]\n",
            "\n",
            "  [[1 0 0]\n",
            "   [3 4 1]\n",
            "   [0 4 3]]\n",
            "\n",
            "  [[0 0 1]\n",
            "   [4 1 3]\n",
            "   [4 3 3]]\n",
            "\n",
            "  [[0 1 1]\n",
            "   [1 3 4]\n",
            "   [3 3 1]]\n",
            "\n",
            "  [[1 1 4]\n",
            "   [3 4 2]\n",
            "   [3 1 1]]]\n",
            "\n",
            "\n",
            " [[[1 1 0]\n",
            "   [3 2 2]\n",
            "   [3 3 0]]\n",
            "\n",
            "  [[1 0 4]\n",
            "   [2 2 3]\n",
            "   [3 0 0]]\n",
            "\n",
            "  [[0 4 3]\n",
            "   [2 3 0]\n",
            "   [0 0 1]]\n",
            "\n",
            "  [[4 3 4]\n",
            "   [3 0 4]\n",
            "   [0 1 1]]\n",
            "\n",
            "  [[3 4 1]\n",
            "   [0 4 3]\n",
            "   [1 1 0]]\n",
            "\n",
            "  [[4 1 3]\n",
            "   [4 3 3]\n",
            "   [1 0 3]]\n",
            "\n",
            "  [[1 3 4]\n",
            "   [3 3 1]\n",
            "   [0 3 4]]\n",
            "\n",
            "  [[3 4 2]\n",
            "   [3 1 1]\n",
            "   [3 4 1]]]\n",
            "\n",
            "\n",
            " [[[3 2 2]\n",
            "   [3 3 0]\n",
            "   [0 2 2]]\n",
            "\n",
            "  [[2 2 3]\n",
            "   [3 0 0]\n",
            "   [2 2 1]]\n",
            "\n",
            "  [[2 3 0]\n",
            "   [0 0 1]\n",
            "   [2 1 4]]\n",
            "\n",
            "  [[3 0 4]\n",
            "   [0 1 1]\n",
            "   [1 4 0]]\n",
            "\n",
            "  [[0 4 3]\n",
            "   [1 1 0]\n",
            "   [4 0 1]]\n",
            "\n",
            "  [[4 3 3]\n",
            "   [1 0 3]\n",
            "   [0 1 0]]\n",
            "\n",
            "  [[3 3 1]\n",
            "   [0 3 4]\n",
            "   [1 0 4]]\n",
            "\n",
            "  [[3 1 1]\n",
            "   [3 4 1]\n",
            "   [0 4 4]]]\n",
            "\n",
            "\n",
            " [[[3 3 0]\n",
            "   [0 2 2]\n",
            "   [2 1 4]]\n",
            "\n",
            "  [[3 0 0]\n",
            "   [2 2 1]\n",
            "   [1 4 2]]\n",
            "\n",
            "  [[0 0 1]\n",
            "   [2 1 4]\n",
            "   [4 2 0]]\n",
            "\n",
            "  [[0 1 1]\n",
            "   [1 4 0]\n",
            "   [2 0 2]]\n",
            "\n",
            "  [[1 1 0]\n",
            "   [4 0 1]\n",
            "   [0 2 1]]\n",
            "\n",
            "  [[1 0 3]\n",
            "   [0 1 0]\n",
            "   [2 1 3]]\n",
            "\n",
            "  [[0 3 4]\n",
            "   [1 0 4]\n",
            "   [1 3 0]]\n",
            "\n",
            "  [[3 4 1]\n",
            "   [0 4 4]\n",
            "   [3 0 0]]]\n",
            "\n",
            "\n",
            " [[[0 2 2]\n",
            "   [2 1 4]\n",
            "   [1 0 3]]\n",
            "\n",
            "  [[2 2 1]\n",
            "   [1 4 2]\n",
            "   [0 3 3]]\n",
            "\n",
            "  [[2 1 4]\n",
            "   [4 2 0]\n",
            "   [3 3 3]]\n",
            "\n",
            "  [[1 4 0]\n",
            "   [2 0 2]\n",
            "   [3 3 1]]\n",
            "\n",
            "  [[4 0 1]\n",
            "   [0 2 1]\n",
            "   [3 1 0]]\n",
            "\n",
            "  [[0 1 0]\n",
            "   [2 1 3]\n",
            "   [1 0 1]]\n",
            "\n",
            "  [[1 0 4]\n",
            "   [1 3 0]\n",
            "   [0 1 0]]\n",
            "\n",
            "  [[0 4 4]\n",
            "   [3 0 0]\n",
            "   [1 0 4]]]\n",
            "\n",
            "\n",
            " [[[2 1 4]\n",
            "   [1 0 3]\n",
            "   [0 3 0]]\n",
            "\n",
            "  [[1 4 2]\n",
            "   [0 3 3]\n",
            "   [3 0 0]]\n",
            "\n",
            "  [[4 2 0]\n",
            "   [3 3 3]\n",
            "   [0 0 3]]\n",
            "\n",
            "  [[2 0 2]\n",
            "   [3 3 1]\n",
            "   [0 3 3]]\n",
            "\n",
            "  [[0 2 1]\n",
            "   [3 1 0]\n",
            "   [3 3 0]]\n",
            "\n",
            "  [[2 1 3]\n",
            "   [1 0 1]\n",
            "   [3 0 3]]\n",
            "\n",
            "  [[1 3 0]\n",
            "   [0 1 0]\n",
            "   [0 3 2]]\n",
            "\n",
            "  [[3 0 0]\n",
            "   [1 0 4]\n",
            "   [3 2 2]]]\n",
            "\n",
            "\n",
            " [[[1 0 3]\n",
            "   [0 3 0]\n",
            "   [0 4 4]]\n",
            "\n",
            "  [[0 3 3]\n",
            "   [3 0 0]\n",
            "   [4 4 4]]\n",
            "\n",
            "  [[3 3 3]\n",
            "   [0 0 3]\n",
            "   [4 4 3]]\n",
            "\n",
            "  [[3 3 1]\n",
            "   [0 3 3]\n",
            "   [4 3 2]]\n",
            "\n",
            "  [[3 1 0]\n",
            "   [3 3 0]\n",
            "   [3 2 4]]\n",
            "\n",
            "  [[1 0 1]\n",
            "   [3 0 3]\n",
            "   [2 4 3]]\n",
            "\n",
            "  [[0 1 0]\n",
            "   [0 3 2]\n",
            "   [4 3 0]]\n",
            "\n",
            "  [[1 0 4]\n",
            "   [3 2 2]\n",
            "   [3 0 3]]]]\n"
          ]
        }
      ],
      "source": [
        "Z = np.random.randint(0,5,(10,10))\n",
        "n = 3\n",
        "i = 1 + (Z.shape[0]-3)\n",
        "j = 1 + (Z.shape[1]-3)\n",
        "C = stride_tricks.as_strided(Z, shape=(i, j, n, n), strides=Z.strides + Z.strides)\n",
        "print(C)"
      ]
    },
    {
      "cell_type": "markdown",
      "metadata": {
        "id": "mVjF6g5nL3-K"
      },
      "source": [
        "#### 85. Create a 2D array subclass such that Z\\[i,j\\] == Z\\[j,i\\] (★★★) \n",
        "(**hint**: class method)"
      ]
    },
    {
      "cell_type": "code",
      "execution_count": null,
      "metadata": {
        "colab": {
          "base_uri": "https://localhost:8080/"
        },
        "id": "VWcz3gVWL3-L",
        "outputId": "742fc86e-8523-46ed-ae30-5831e128f7b7"
      },
      "outputs": [
        {
          "output_type": "execute_result",
          "data": {
            "text/plain": [
              "Symetric([[ 7, 12,  6,  7, 10],\n",
              "          [12,  5,  7, 13, 11],\n",
              "          [ 6,  7,  4,  6, 15],\n",
              "          [ 7, 13,  6,  5,  7],\n",
              "          [10, 11, 15,  7,  9]])"
            ]
          },
          "metadata": {},
          "execution_count": 120
        }
      ],
      "source": [
        "class Symetric(np.ndarray):\n",
        "    def __setitem__(self, index, value):\n",
        "        i,j = index\n",
        "        super(Symetric, self).__setitem__((i,j), value)\n",
        "        super(Symetric, self).__setitem__((j,i), value)\n",
        "\n",
        "def symetric(Z):\n",
        "    return np.asarray(Z + Z.T - np.diag(Z.diagonal())).view(Symetric)\n",
        "\n",
        "S = symetric(np.random.randint(0,10,(5,5)))\n",
        "S"
      ]
    },
    {
      "cell_type": "markdown",
      "metadata": {
        "id": "RASoPHguL3-L"
      },
      "source": [
        "#### 86. Consider a set of p matrices wich shape (n,n) and a set of p vectors with shape (n,1). How to compute the sum of of the p matrix products at once? (result has shape (n,1)) (★★★) \n",
        "(**hint**: np.tensordot)"
      ]
    },
    {
      "cell_type": "code",
      "execution_count": null,
      "metadata": {
        "colab": {
          "base_uri": "https://localhost:8080/"
        },
        "id": "g3q3Nao9L3-M",
        "outputId": "d6751ffd-81fa-4d2c-e2a3-103269fb0996"
      },
      "outputs": [
        {
          "output_type": "stream",
          "name": "stdout",
          "text": [
            "[[200.]\n",
            " [200.]\n",
            " [200.]\n",
            " [200.]\n",
            " [200.]\n",
            " [200.]\n",
            " [200.]\n",
            " [200.]\n",
            " [200.]\n",
            " [200.]\n",
            " [200.]\n",
            " [200.]\n",
            " [200.]\n",
            " [200.]\n",
            " [200.]\n",
            " [200.]\n",
            " [200.]\n",
            " [200.]\n",
            " [200.]\n",
            " [200.]]\n"
          ]
        }
      ],
      "source": [
        "p, n = 10, 20\n",
        "M = np.ones((p,n,n))\n",
        "V = np.ones((p,n,1))\n",
        "S = np.tensordot(M, V, axes=[[0, 2], [0, 1]])\n",
        "print(S)"
      ]
    },
    {
      "cell_type": "markdown",
      "metadata": {
        "id": "y3xSiNAlL3-M"
      },
      "source": [
        "#### 87. Consider a 16x16 array, how to get the block-sum (block size is 4x4)? (★★★) \n",
        "(**hint**: np.add.reduceat)"
      ]
    },
    {
      "cell_type": "code",
      "execution_count": null,
      "metadata": {
        "colab": {
          "base_uri": "https://localhost:8080/"
        },
        "id": "StG2mgyQL3-M",
        "outputId": "e8aa8d3d-7053-4c85-b8db-cda4a5eaed27"
      },
      "outputs": [
        {
          "output_type": "stream",
          "name": "stdout",
          "text": [
            "[[16. 16. 16. 16.]\n",
            " [16. 16. 16. 16.]\n",
            " [16. 16. 16. 16.]\n",
            " [16. 16. 16. 16.]]\n"
          ]
        }
      ],
      "source": [
        "Z = np.ones((16,16))\n",
        "k = 4\n",
        "S = np.add.reduceat(np.add.reduceat(Z, np.arange(0, Z.shape[0], k), axis=0),\n",
        "                                       np.arange(0, Z.shape[1], k), axis=1)\n",
        "print(S)"
      ]
    },
    {
      "cell_type": "markdown",
      "metadata": {
        "id": "IcMuYgXnL3-N"
      },
      "source": [
        "#### 88. How to implement the Game of Life using numpy arrays? (★★★)"
      ]
    },
    {
      "cell_type": "code",
      "execution_count": null,
      "metadata": {
        "colab": {
          "base_uri": "https://localhost:8080/"
        },
        "id": "L6rWtvS-L3-O",
        "outputId": "efc434a7-8c9d-4de8-8549-232563922dfb"
      },
      "outputs": [
        {
          "output_type": "stream",
          "name": "stdout",
          "text": [
            "[[0 0 0 0 0 0 0 0 0 0 0 0 0 0 0 0 0 0 0 0 0 0 0 0 0 0 0 0 0 0 0 0 0 0 0 0\n",
            "  0 0 0 0 0 0 0 0 0 0 0 0 0 0]\n",
            " [0 0 0 0 0 0 0 0 0 0 0 0 0 0 0 0 0 0 1 1 0 0 0 0 0 0 0 0 0 0 0 1 0 0 0 0\n",
            "  0 0 0 0 0 0 0 0 0 0 0 0 0 0]\n",
            " [0 0 0 0 0 0 0 0 0 0 0 0 1 1 0 0 0 0 1 1 0 0 0 0 0 0 0 1 1 1 1 0 1 0 0 0\n",
            "  0 0 0 1 0 0 0 0 0 0 0 0 0 0]\n",
            " [0 0 0 0 0 0 0 0 0 0 0 0 1 1 0 0 0 0 0 0 0 0 0 0 0 0 1 0 0 0 1 0 0 1 0 0\n",
            "  0 0 0 0 0 0 0 0 0 0 0 0 0 0]\n",
            " [0 0 0 0 0 0 0 0 0 0 0 0 0 0 0 0 0 0 0 0 0 0 0 0 0 0 1 1 0 0 0 0 0 0 1 1\n",
            "  0 0 1 1 0 0 0 0 0 0 0 0 0 0]\n",
            " [0 0 0 0 0 0 0 0 0 0 0 0 0 0 0 0 0 0 0 0 0 0 0 0 0 0 1 0 0 0 0 0 1 0 0 1\n",
            "  0 0 1 0 0 0 0 0 0 0 0 0 0 0]\n",
            " [0 0 0 0 0 0 0 0 0 0 0 0 0 0 0 0 0 0 0 0 0 0 0 0 0 0 1 0 0 0 1 0 0 0 1 1\n",
            "  0 0 0 0 0 0 0 0 0 0 0 0 0 0]\n",
            " [0 0 0 0 0 0 0 0 0 0 0 0 0 0 0 0 0 0 0 0 0 0 0 0 0 0 0 1 1 1 0 0 0 0 0 0\n",
            "  0 0 0 0 0 0 0 0 0 0 0 0 0 0]\n",
            " [0 0 0 0 0 0 0 0 0 0 0 0 0 1 1 0 0 0 0 0 0 0 0 0 0 0 0 0 0 0 0 0 0 0 0 0\n",
            "  0 0 0 0 0 0 0 0 0 0 0 0 0 0]\n",
            " [0 0 0 0 0 0 0 0 0 0 0 0 0 1 0 1 0 0 0 0 0 0 0 0 0 0 0 0 0 0 0 0 0 0 0 0\n",
            "  0 0 0 0 0 0 0 0 0 0 0 0 0 0]\n",
            " [0 0 0 0 0 0 0 0 0 0 0 0 0 0 1 0 1 0 0 0 0 0 0 0 0 0 0 0 0 0 0 0 0 0 0 0\n",
            "  0 0 1 1 0 0 0 0 0 0 0 0 0 0]\n",
            " [0 0 0 0 0 0 0 0 0 0 0 0 0 0 0 1 0 0 0 0 0 0 0 0 0 0 0 0 0 0 0 0 0 0 0 0\n",
            "  0 0 1 1 0 0 0 0 0 0 0 0 0 0]\n",
            " [0 0 0 0 0 0 0 0 0 0 0 0 0 0 0 0 0 0 0 0 0 0 0 0 1 1 1 1 1 1 0 0 0 0 0 0\n",
            "  0 0 0 0 0 0 0 0 0 0 0 0 0 0]\n",
            " [0 0 0 0 0 0 0 0 0 0 0 0 0 0 0 0 0 0 0 0 0 0 0 0 1 1 1 1 1 1 0 0 0 0 0 0\n",
            "  0 0 0 0 0 0 0 0 0 0 0 0 0 0]\n",
            " [0 0 0 0 0 0 0 0 0 0 0 0 0 0 0 0 0 0 0 0 0 0 0 0 0 0 0 0 1 1 0 0 0 1 0 0\n",
            "  0 0 0 0 0 0 0 0 0 0 0 0 0 0]\n",
            " [0 0 0 0 0 0 0 0 0 0 0 0 0 0 0 0 0 0 0 0 0 0 0 0 0 0 0 0 1 1 0 0 0 1 1 1\n",
            "  0 0 0 1 1 0 0 0 0 0 0 0 0 0]\n",
            " [0 0 0 0 0 0 0 0 0 0 0 0 0 0 0 0 0 0 0 0 0 0 0 0 0 0 0 0 0 0 1 0 1 0 1 0\n",
            "  0 0 0 1 1 0 0 0 0 0 0 0 0 0]\n",
            " [0 0 0 0 0 0 0 0 0 0 0 0 0 0 0 0 0 0 0 0 0 0 0 0 0 0 0 0 0 0 1 1 1 1 0 0\n",
            "  0 0 0 0 0 0 0 0 0 0 0 0 0 0]\n",
            " [0 0 0 0 0 0 0 0 0 0 0 0 0 0 0 0 0 0 0 0 0 0 0 0 0 0 0 0 0 0 1 0 0 0 0 0\n",
            "  0 0 0 0 0 0 0 0 0 0 0 0 0 0]\n",
            " [0 0 0 0 0 0 0 0 0 0 0 0 0 0 0 0 0 0 0 0 0 0 0 0 0 0 0 0 0 0 0 0 1 1 0 0\n",
            "  0 0 0 0 0 0 0 0 0 0 0 0 0 0]\n",
            " [0 0 0 1 1 0 0 0 0 0 0 0 0 0 0 0 0 0 0 0 0 0 0 0 0 0 0 0 0 0 0 1 1 1 0 0\n",
            "  0 0 0 0 0 0 0 0 0 0 0 0 0 0]\n",
            " [0 0 1 0 0 1 0 0 0 0 0 0 0 0 0 0 0 0 0 0 0 0 0 0 1 1 0 0 0 0 0 0 0 0 0 0\n",
            "  0 0 0 0 0 0 0 0 0 0 0 0 0 0]\n",
            " [0 0 0 1 0 1 0 0 0 0 0 0 0 0 0 0 0 0 0 0 0 0 0 1 0 0 1 0 0 0 0 0 0 0 0 0\n",
            "  0 0 0 0 0 0 0 0 0 0 0 0 0 0]\n",
            " [0 0 0 0 1 0 0 0 0 0 0 0 0 0 0 0 0 0 0 0 0 0 0 0 1 1 0 0 0 0 0 0 0 0 0 0\n",
            "  0 0 0 0 0 0 0 0 0 0 0 0 0 0]\n",
            " [0 0 0 0 0 0 0 0 0 0 0 0 0 0 0 0 0 0 0 0 0 0 0 0 0 0 0 0 0 0 0 0 0 0 0 0\n",
            "  0 0 0 0 0 0 0 0 0 0 1 1 0 0]\n",
            " [0 0 0 0 0 0 0 0 0 0 0 0 0 0 0 0 0 0 0 0 0 0 0 0 1 1 0 0 0 0 0 0 0 0 0 0\n",
            "  1 0 0 0 0 0 0 0 0 0 1 1 0 0]\n",
            " [0 0 0 0 0 0 0 0 0 0 0 0 0 0 0 0 0 0 0 0 0 0 0 0 1 1 0 0 0 0 0 0 0 0 0 0\n",
            "  1 0 0 0 0 0 0 0 0 0 0 0 0 0]\n",
            " [0 0 0 0 0 0 0 0 0 0 0 0 0 0 0 0 0 0 0 0 0 0 0 0 1 0 0 0 0 0 0 0 0 0 0 0\n",
            "  1 0 0 0 0 0 0 0 0 0 0 0 0 0]\n",
            " [0 0 0 0 0 0 0 0 0 0 0 0 0 0 0 0 0 0 0 0 0 0 1 1 0 0 0 0 0 0 0 0 0 0 0 0\n",
            "  0 0 0 0 0 0 0 0 0 0 0 0 0 0]\n",
            " [0 0 0 0 0 0 0 0 0 0 0 0 0 0 0 0 0 0 0 0 0 1 1 1 0 0 0 0 0 0 0 0 0 0 0 0\n",
            "  0 0 0 0 0 0 0 0 0 0 0 0 0 0]\n",
            " [0 0 0 0 0 0 0 0 0 0 0 0 0 0 0 0 0 0 0 0 0 1 0 1 0 0 0 0 0 0 0 0 0 0 0 0\n",
            "  0 0 0 0 0 0 0 0 0 0 0 0 0 0]\n",
            " [0 0 0 0 0 0 0 0 0 0 0 0 0 0 0 0 0 0 0 0 0 0 0 0 0 0 0 0 0 0 0 0 0 0 0 0\n",
            "  0 0 0 0 0 0 0 0 0 0 0 0 0 0]\n",
            " [0 0 0 0 0 0 0 0 0 0 0 0 0 0 0 1 1 1 1 1 1 1 0 0 0 0 0 0 0 0 0 0 0 0 0 0\n",
            "  0 0 0 0 0 0 0 0 0 0 0 0 0 0]\n",
            " [0 0 0 0 0 0 0 0 0 0 0 0 0 0 1 0 0 0 0 0 0 1 1 0 0 0 0 0 0 0 0 0 0 0 0 0\n",
            "  0 0 0 0 0 0 0 0 0 0 0 0 0 0]\n",
            " [0 0 0 0 0 0 0 0 0 0 0 0 0 1 0 0 0 0 0 0 0 1 1 0 0 0 0 0 0 0 0 0 0 0 0 0\n",
            "  0 0 0 0 0 0 0 0 0 0 0 0 0 0]\n",
            " [0 0 0 0 0 0 0 0 0 0 0 0 0 0 1 0 1 0 0 0 0 1 1 0 0 0 0 0 0 0 0 0 0 0 0 0\n",
            "  0 0 0 0 0 0 0 0 0 0 0 0 0 0]\n",
            " [0 0 0 0 0 0 0 0 0 0 0 0 0 0 0 1 0 1 0 0 1 0 0 0 0 1 1 0 0 0 0 0 0 0 0 0\n",
            "  0 0 0 0 0 0 0 0 0 0 0 0 0 0]\n",
            " [0 0 0 0 0 0 0 0 0 0 1 1 0 0 0 0 0 1 0 0 0 1 0 1 0 1 0 0 0 0 0 0 0 0 0 0\n",
            "  0 0 0 0 0 0 0 0 0 0 0 0 0 0]\n",
            " [0 0 0 0 0 0 0 0 0 0 1 1 0 0 0 0 0 0 1 0 1 0 0 0 0 0 0 0 0 0 0 0 0 0 0 0\n",
            "  0 0 0 0 0 0 1 0 0 0 0 0 0 0]\n",
            " [0 0 0 0 0 0 0 0 0 0 0 0 0 0 0 0 0 0 0 1 0 0 1 0 0 1 1 0 0 0 0 0 0 0 0 0\n",
            "  0 0 0 0 0 1 0 1 0 0 0 0 0 0]\n",
            " [0 0 0 0 0 0 0 0 0 0 0 0 0 0 0 0 0 0 0 0 0 1 0 0 0 0 0 1 0 0 0 0 0 0 0 1\n",
            "  1 0 0 0 0 0 1 1 0 0 0 0 0 0]\n",
            " [0 0 0 0 0 0 0 0 0 0 0 0 0 0 0 0 0 0 0 0 0 1 0 0 1 0 0 0 1 0 0 0 0 0 0 1\n",
            "  1 0 0 0 0 0 0 0 0 0 0 0 0 0]\n",
            " [0 0 0 0 0 0 0 0 0 0 0 0 0 0 0 0 0 0 0 0 0 1 0 0 0 0 0 1 0 0 0 0 0 0 0 0\n",
            "  0 0 0 0 0 0 0 0 0 0 0 0 0 0]\n",
            " [0 0 0 0 0 0 0 0 0 0 0 0 0 0 0 0 0 0 0 0 0 0 1 0 0 1 1 0 0 0 0 0 0 0 0 0\n",
            "  0 0 0 0 0 0 0 0 0 0 0 0 0 0]\n",
            " [0 0 0 0 0 0 0 0 0 0 0 0 0 0 0 0 0 0 0 0 0 0 0 0 1 0 0 0 0 0 0 0 0 0 0 0\n",
            "  0 0 0 0 0 0 0 0 0 0 0 0 0 0]\n",
            " [0 0 0 0 0 0 0 0 0 0 0 0 0 0 0 0 0 0 0 0 0 0 0 0 0 0 0 0 0 0 0 0 0 0 0 0\n",
            "  0 0 0 0 0 0 0 0 0 0 0 0 0 0]\n",
            " [0 0 0 0 0 0 0 0 0 0 0 0 0 0 0 0 0 0 0 0 0 0 0 0 0 0 0 0 0 0 0 0 0 0 0 0\n",
            "  0 0 0 0 0 0 0 0 0 0 0 0 0 0]\n",
            " [0 0 0 0 0 0 0 0 0 0 0 0 0 0 0 0 0 0 0 0 0 0 0 0 0 0 0 0 0 0 0 0 0 0 0 0\n",
            "  0 0 0 0 0 0 0 0 0 0 0 0 0 0]\n",
            " [0 0 0 0 0 0 0 0 0 0 0 0 0 0 0 0 0 0 0 0 0 0 0 0 0 0 0 0 0 0 0 0 0 0 0 0\n",
            "  0 0 0 0 0 0 0 0 0 0 0 0 0 0]\n",
            " [0 0 0 0 0 0 0 0 0 0 0 0 0 0 0 0 0 0 0 0 0 0 0 0 0 0 0 0 0 0 0 0 0 0 0 0\n",
            "  0 0 0 0 0 0 0 0 0 0 0 0 0 0]]\n"
          ]
        }
      ],
      "source": [
        "def iterate(Z):\n",
        "    N = (Z[0:-2,0:-2] + Z[0:-2,1:-1] + Z[0:-2,2:] +\n",
        "         Z[1:-1,0:-2]                + Z[1:-1,2:] +\n",
        "         Z[2:  ,0:-2] + Z[2:  ,1:-1] + Z[2:  ,2:])\n",
        "\n",
        "    birth = (N==3) & (Z[1:-1,1:-1]==0)\n",
        "    survive = ((N==2) | (N==3)) & (Z[1:-1,1:-1]==1)\n",
        "    Z[...] = 0\n",
        "    Z[1:-1,1:-1][birth | survive] = 1\n",
        "    return Z\n",
        "\n",
        "Z = np.random.randint(0,2,(50,50))\n",
        "for i in range(100): Z = iterate(Z)\n",
        "print(Z)"
      ]
    },
    {
      "cell_type": "markdown",
      "metadata": {
        "id": "R5ejzKhcL3-P"
      },
      "source": [
        "#### 89. How to get the n largest values of an array (★★★) \n",
        "(**hint**: np.argsort | np.argpartition)"
      ]
    },
    {
      "cell_type": "code",
      "execution_count": null,
      "metadata": {
        "colab": {
          "base_uri": "https://localhost:8080/"
        },
        "id": "TfzWmp_pL3-Q",
        "outputId": "a800912a-e26d-4ba3-b0f1-331ef25e4fad"
      },
      "outputs": [
        {
          "output_type": "stream",
          "name": "stdout",
          "text": [
            "[9995 9996 9997 9998 9999]\n",
            "[9998 9999 9997 9995 9996]\n"
          ]
        }
      ],
      "source": [
        "Z = np.arange(10000)\n",
        "np.random.shuffle(Z)\n",
        "n = 5\n",
        "\n",
        "# Slow\n",
        "print (Z[np.argsort(Z)[-n:]])\n",
        "\n",
        "# Fast\n",
        "print (Z[np.argpartition(-Z,n)[:n]])"
      ]
    },
    {
      "cell_type": "markdown",
      "metadata": {
        "id": "DW8ZZKhTL3-Q"
      },
      "source": [
        "#### 90. Given an arbitrary number of vectors, build the cartesian product (every combinations of every item) (★★★) \n",
        "(**hint**: np.indices)"
      ]
    },
    {
      "cell_type": "code",
      "execution_count": null,
      "metadata": {
        "scrolled": true,
        "colab": {
          "base_uri": "https://localhost:8080/"
        },
        "id": "m1QNteUSL3-R",
        "outputId": "9a927236-8ba2-4976-fc86-f6216236c413"
      },
      "outputs": [
        {
          "output_type": "stream",
          "name": "stdout",
          "text": [
            "[[1 4 6]\n",
            " [1 4 7]\n",
            " [1 5 6]\n",
            " [1 5 7]\n",
            " [2 4 6]\n",
            " [2 4 7]\n",
            " [2 5 6]\n",
            " [2 5 7]\n",
            " [3 4 6]\n",
            " [3 4 7]\n",
            " [3 5 6]\n",
            " [3 5 7]]\n"
          ]
        }
      ],
      "source": [
        "def cartesian(arrays):\n",
        "    arrays = [np.asarray(a) for a in arrays]\n",
        "    shape = (len(x) for x in arrays)\n",
        "\n",
        "    ix = np.indices(shape, dtype=int)\n",
        "    ix = ix.reshape(len(arrays), -1).T\n",
        "\n",
        "    for n, arr in enumerate(arrays):\n",
        "        ix[:, n] = arrays[n][ix[:, n]]\n",
        "\n",
        "    return ix\n",
        "\n",
        "print (cartesian(([1, 2, 3], [4, 5], [6, 7])))"
      ]
    },
    {
      "cell_type": "markdown",
      "metadata": {
        "id": "zRxeEJncL3-S"
      },
      "source": [
        "#### 91. How to create a record array from a regular array? (★★★) \n",
        "(**hint**: np.core.records.fromarrays)"
      ]
    },
    {
      "cell_type": "code",
      "execution_count": null,
      "metadata": {
        "colab": {
          "base_uri": "https://localhost:8080/"
        },
        "id": "zl32rIohL3-S",
        "outputId": "97b74f06-5d90-4728-842a-c8aafe64e4a2"
      },
      "outputs": [
        {
          "output_type": "stream",
          "name": "stdout",
          "text": [
            "[['Hello' '2.5' '3']\n",
            " ['World' '3.6' '2']]\n",
            "[(b'Hello', 2.5, 3) (b'World', 3.6, 2)]\n"
          ]
        }
      ],
      "source": [
        "Z = np.array([(\"Hello\", 2.5, 3),\n",
        "              (\"World\", 3.6, 2)])\n",
        "print(Z)\n",
        "R = np.core.records.fromarrays(Z.T, \n",
        "                               names='col1, col2, col3',\n",
        "                               formats = 'S8, f8, i8')\n",
        "print(R)"
      ]
    },
    {
      "cell_type": "markdown",
      "metadata": {
        "id": "q3nwk_E_L3-S"
      },
      "source": [
        "#### 92. Consider a large vector Z, compute Z to the power of 3 using 3 different methods (★★★) \n",
        "(**hint**: np.power, \\*, np.einsum)"
      ]
    },
    {
      "cell_type": "code",
      "execution_count": null,
      "metadata": {
        "colab": {
          "base_uri": "https://localhost:8080/"
        },
        "id": "emr4OGHnL3-T",
        "outputId": "ef7d42e0-f31b-4c8a-b8c8-3c6c6dd220e9"
      },
      "outputs": [
        {
          "output_type": "stream",
          "name": "stdout",
          "text": [
            "4.31 s ± 487 ms per loop (mean ± std. dev. of 7 runs, 1 loop each)\n",
            "183 ms ± 13.9 ms per loop (mean ± std. dev. of 7 runs, 10 loops each)\n",
            "168 ms ± 4.19 ms per loop (mean ± std. dev. of 7 runs, 10 loops each)\n"
          ]
        }
      ],
      "source": [
        "x = np.random.rand(int(5e7))\n",
        "\n",
        "%timeit np.power(x,3)\n",
        "%timeit x*x*x\n",
        "%timeit np.einsum('i,i,i->i',x,x,x)"
      ]
    },
    {
      "cell_type": "markdown",
      "metadata": {
        "id": "5m3wYoVlL3-T"
      },
      "source": [
        "#### 93. Consider two arrays A and B of shape (8,3) and (2,2). How to find rows of A that contain elements of each row of B regardless of the order of the elements in B? (★★★) \n",
        "(**hint**: np.where)"
      ]
    },
    {
      "cell_type": "code",
      "execution_count": null,
      "metadata": {
        "colab": {
          "base_uri": "https://localhost:8080/"
        },
        "id": "yHq8cLE3L3-U",
        "outputId": "254d1cae-f708-421f-b884-4c6b0c1025a0"
      },
      "outputs": [
        {
          "output_type": "stream",
          "name": "stdout",
          "text": [
            "[1 3 4]\n"
          ]
        }
      ],
      "source": [
        "A = np.random.randint(0,5,(8,3))\n",
        "B = np.random.randint(0,5,(2,2))\n",
        "\n",
        "C = (A[..., np.newaxis, np.newaxis] == B)\n",
        "rows = np.where(C.any((3,1)).all(1))[0]\n",
        "print(rows)"
      ]
    },
    {
      "cell_type": "markdown",
      "metadata": {
        "id": "zEN7ws7nL3-U"
      },
      "source": [
        "#### 94. Considering a 10x3 matrix, extract rows with unequal values (e.g. \\[2,2,3\\]) (★★★)"
      ]
    },
    {
      "cell_type": "code",
      "execution_count": null,
      "metadata": {
        "colab": {
          "base_uri": "https://localhost:8080/"
        },
        "id": "X334eHuuL3-V",
        "outputId": "2a5ed317-96d9-4482-f7f0-26c9d51ba8a3"
      },
      "outputs": [
        {
          "output_type": "stream",
          "name": "stdout",
          "text": [
            "[[3 4 2]\n",
            " [0 3 1]\n",
            " [3 2 2]\n",
            " [1 4 4]\n",
            " [2 0 4]\n",
            " [0 0 1]\n",
            " [3 0 4]\n",
            " [4 4 1]\n",
            " [2 2 3]\n",
            " [1 3 2]]\n",
            "[[3 4 2]\n",
            " [0 3 1]\n",
            " [3 2 2]\n",
            " [1 4 4]\n",
            " [2 0 4]\n",
            " [0 0 1]\n",
            " [3 0 4]\n",
            " [4 4 1]\n",
            " [2 2 3]\n",
            " [1 3 2]]\n",
            "[[3 4 2]\n",
            " [0 3 1]\n",
            " [3 2 2]\n",
            " [1 4 4]\n",
            " [2 0 4]\n",
            " [0 0 1]\n",
            " [3 0 4]\n",
            " [4 4 1]\n",
            " [2 2 3]\n",
            " [1 3 2]]\n"
          ]
        }
      ],
      "source": [
        "Z = np.random.randint(0,5,(10,3))\n",
        "print(Z)\n",
        "\n",
        "E = np.all(Z[:,1:] == Z[:,:-1], axis=1)\n",
        "U = Z[~E]\n",
        "print(U)\n",
        "\n",
        "U = Z[Z.max(axis=1) != Z.min(axis=1),:]\n",
        "print(U)"
      ]
    },
    {
      "cell_type": "markdown",
      "metadata": {
        "id": "KO5q8-cwL3-V"
      },
      "source": [
        "#### 95. Convert a vector of ints into a matrix binary representation (★★★) \n",
        "(**hint**: np.unpackbits)"
      ]
    },
    {
      "cell_type": "code",
      "execution_count": null,
      "metadata": {
        "colab": {
          "base_uri": "https://localhost:8080/"
        },
        "id": "VJkmqpF9L3-W",
        "outputId": "d72166c0-1af9-4962-fc6f-a46166a74128"
      },
      "outputs": [
        {
          "output_type": "stream",
          "name": "stdout",
          "text": [
            "[[0 0 0 0 0 0 0 0]\n",
            " [0 0 0 0 0 0 0 1]\n",
            " [0 0 0 0 0 0 1 0]\n",
            " [0 0 0 0 0 0 1 1]\n",
            " [0 0 0 0 1 1 1 1]\n",
            " [0 0 0 1 0 0 0 0]\n",
            " [0 0 1 0 0 0 0 0]\n",
            " [0 1 0 0 0 0 0 0]\n",
            " [1 0 0 0 0 0 0 0]]\n",
            "[[0 0 0 0 0 0 0 0]\n",
            " [0 0 0 0 0 0 0 1]\n",
            " [0 0 0 0 0 0 1 0]\n",
            " [0 0 0 0 0 0 1 1]\n",
            " [0 0 0 0 1 1 1 1]\n",
            " [0 0 0 1 0 0 0 0]\n",
            " [0 0 1 0 0 0 0 0]\n",
            " [0 1 0 0 0 0 0 0]\n",
            " [1 0 0 0 0 0 0 0]]\n"
          ]
        }
      ],
      "source": [
        "I = np.array([0, 1, 2, 3, 15, 16, 32, 64, 128])\n",
        "B = ((I.reshape(-1,1) & (2**np.arange(8))) != 0).astype(int)\n",
        "print(B[:,::-1])\n",
        "I = np.array([0, 1, 2, 3, 15, 16, 32, 64, 128], dtype=np.uint8)\n",
        "print(np.unpackbits(I[:, np.newaxis], axis=1))"
      ]
    },
    {
      "cell_type": "markdown",
      "metadata": {
        "id": "VU9_Pf9sL3-W"
      },
      "source": [
        "#### 96. Given a two dimensional array, how to extract unique rows? (★★★) \n",
        "(**hint**: np.ascontiguousarray)"
      ]
    },
    {
      "cell_type": "code",
      "execution_count": null,
      "metadata": {
        "colab": {
          "base_uri": "https://localhost:8080/"
        },
        "id": "znPlXI_5L3-X",
        "outputId": "e6a9e227-7d1b-4a45-b3ca-f8ffb586b49e"
      },
      "outputs": [
        {
          "output_type": "stream",
          "name": "stdout",
          "text": [
            "[[0 0 0]\n",
            " [0 0 1]\n",
            " [0 1 0]\n",
            " [1 0 0]\n",
            " [1 0 1]]\n"
          ]
        }
      ],
      "source": [
        "Z = np.random.randint(0,2,(6,3))\n",
        "T = np.ascontiguousarray(Z).view(np.dtype((np.void, Z.dtype.itemsize * Z.shape[1])))\n",
        "_, idx = np.unique(T, return_index=True)\n",
        "uZ = Z[idx]\n",
        "print(uZ)"
      ]
    },
    {
      "cell_type": "markdown",
      "metadata": {
        "id": "8e59kqLxL3-X"
      },
      "source": [
        "#### 97. Considering 2 vectors A & B, write the einsum equivalent of inner, outer, sum, and mul function (★★★) \n",
        "(**hint**: np.einsum)"
      ]
    },
    {
      "cell_type": "code",
      "execution_count": null,
      "metadata": {
        "colab": {
          "base_uri": "https://localhost:8080/"
        },
        "id": "t4DEHNcAL3-Y",
        "outputId": "0b43a084-e90c-4a8a-832f-bb9d87874a23"
      },
      "outputs": [
        {
          "output_type": "execute_result",
          "data": {
            "text/plain": [
              "array([[0.02049542, 0.04177314, 0.03810238, 0.02025258, 0.00647106,\n",
              "        0.00949864, 0.02308917, 0.00311886, 0.01524949, 0.02099736],\n",
              "       [0.36401985, 0.74193415, 0.67673768, 0.35970679, 0.11493271,\n",
              "        0.16870572, 0.41008761, 0.05539415, 0.27084679, 0.37293476],\n",
              "       [0.17047624, 0.34745948, 0.31692694, 0.16845637, 0.0538248 ,\n",
              "        0.07900755, 0.1920505 , 0.02594196, 0.12684183, 0.17465124],\n",
              "       [0.31962641, 0.65145281, 0.59420727, 0.31583935, 0.10091629,\n",
              "        0.14813149, 0.36007606, 0.04863865, 0.23781613, 0.32745413],\n",
              "       [0.22639504, 0.46143147, 0.4208838 , 0.22371262, 0.07148016,\n",
              "        0.10492323, 0.25504599, 0.03445131, 0.16844788, 0.2319395 ],\n",
              "       [0.0204579 , 0.04169667, 0.03803263, 0.02021551, 0.00645921,\n",
              "        0.00948125, 0.02304691, 0.00311315, 0.01522158, 0.02095892],\n",
              "       [0.09416278, 0.1919197 , 0.17505502, 0.0930471 , 0.0297302 ,\n",
              "        0.04363993, 0.10607935, 0.01432907, 0.07006125, 0.09646884],\n",
              "       [0.31747778, 0.64707353, 0.59021281, 0.31371617, 0.10023789,\n",
              "        0.1471357 , 0.3576555 , 0.04831168, 0.23621745, 0.32525287],\n",
              "       [0.25237616, 0.51438539, 0.46918447, 0.2493859 , 0.07968323,\n",
              "        0.11696423, 0.28431509, 0.03840495, 0.18777898, 0.2585569 ],\n",
              "       [0.15365202, 0.31316887, 0.28564958, 0.15183149, 0.04851286,\n",
              "        0.07121033, 0.17309713, 0.02338176, 0.11432387, 0.15741499]])"
            ]
          },
          "metadata": {},
          "execution_count": 133
        }
      ],
      "source": [
        "A = np.random.uniform(0,1,10)\n",
        "B = np.random.uniform(0,1,10)\n",
        "np.einsum('i->', A)      \n",
        "np.einsum('i,i->i', A, B) \n",
        "np.einsum('i,i', A, B)    \n",
        "np.einsum('i,j->ij', A, B)"
      ]
    },
    {
      "cell_type": "markdown",
      "metadata": {
        "id": "T7GHO9TyL3-Y"
      },
      "source": [
        "#### 98. Considering a path described by two vectors (X,Y), how to sample it using equidistant samples (★★★)? \n",
        "(**hint**: np.cumsum, np.interp)"
      ]
    },
    {
      "cell_type": "code",
      "execution_count": null,
      "metadata": {
        "collapsed": true,
        "id": "02bo1QFXL3-Y"
      },
      "outputs": [],
      "source": [
        "phi = np.arange(0, 10*np.pi, 0.1)\n",
        "a = 1\n",
        "x = a*phi*np.cos(phi)\n",
        "y = a*phi*np.sin(phi)\n",
        "dr = (np.diff(x)**2 + np.diff(y)**2)**.5\n",
        "r = np.zeros_like(x)\n",
        "r[1:] = np.cumsum(dr)               \n",
        "r_int = np.linspace(0, r.max(), 200)\n",
        "x_int = np.interp(r_int, r, x)       \n",
        "y_int = np.interp(r_int, r, y)"
      ]
    },
    {
      "cell_type": "markdown",
      "metadata": {
        "id": "DFwrAlSpL3-Z"
      },
      "source": [
        "#### 99. Given an integer n and a 2D array X, select from X the rows which can be interpreted as draws from a multinomial distribution with n degrees, i.e., the rows which only contain integers and which sum to n. (★★★) \n",
        "(**hint**: np.logical\\_and.reduce, np.mod)"
      ]
    },
    {
      "cell_type": "code",
      "execution_count": null,
      "metadata": {
        "colab": {
          "base_uri": "https://localhost:8080/"
        },
        "id": "o3I67xdjL3-Z",
        "outputId": "ce8238b0-86aa-460a-948d-8793e424dc05"
      },
      "outputs": [
        {
          "output_type": "stream",
          "name": "stdout",
          "text": [
            "[[2. 0. 1. 1.]]\n"
          ]
        }
      ],
      "source": [
        "X = np.asarray([[1.0, 0.0, 3.0, 8.0],\n",
        "                [2.0, 0.0, 1.0, 1.0],\n",
        "                [1.5, 2.5, 1.0, 0.0]])\n",
        "n = 4\n",
        "M = np.logical_and.reduce(np.mod(X, 1) == 0, axis=-1)\n",
        "M &= (X.sum(axis=-1) == n)\n",
        "print(X[M])"
      ]
    },
    {
      "cell_type": "markdown",
      "metadata": {
        "id": "PkZTa3sRL3-Z"
      },
      "source": [
        "#### 100. Compute bootstrapped 95% confidence intervals for the mean of a 1D array X (i.e., resample the elements of an array with replacement N times, compute the mean of each sample, and then compute percentiles over the means). (★★★) \n",
        "(**hint**: np.percentile)"
      ]
    },
    {
      "cell_type": "code",
      "execution_count": null,
      "metadata": {
        "colab": {
          "base_uri": "https://localhost:8080/"
        },
        "id": "Qy4hlDC0L3-a",
        "outputId": "5a7e3af3-b715-4ab1-becc-c43044e506b7"
      },
      "outputs": [
        {
          "output_type": "stream",
          "name": "stdout",
          "text": [
            "[-0.06979742  0.32838813]\n"
          ]
        }
      ],
      "source": [
        "X = np.random.randn(100) # random 1D array\n",
        "N = 1000 # number of bootstrap samples\n",
        "idx = np.random.randint(0, X.size, (N, X.size))\n",
        "means = X[idx].mean(axis=1)\n",
        "confint = np.percentile(means, [2.5, 97.5])\n",
        "print(confint)"
      ]
    }
  ],
  "metadata": {
    "kernelspec": {
      "display_name": "Python 3",
      "language": "python",
      "name": "python3"
    },
    "language_info": {
      "codemirror_mode": {
        "name": "ipython",
        "version": 3
      },
      "file_extension": ".py",
      "mimetype": "text/x-python",
      "name": "python",
      "nbconvert_exporter": "python",
      "pygments_lexer": "ipython3",
      "version": "3.8.3"
    },
    "colab": {
      "provenance": [],
      "collapsed_sections": [
        "EQwN3rRLL38c",
        "ZRr19bb1L38e",
        "stWCb0hBL38g",
        "4pIpTJuSL38i",
        "Mqo6MPS_L38k",
        "ZqO1pcvIL38l",
        "-XVzkrjTL38m",
        "upfyqvdnL38n",
        "M_Y8K2UrL38o",
        "NGynn-utL38p",
        "ktjSrNdML38s",
        "8H_XWHX-L38u",
        "XzSRD7q4L38w",
        "uZgxl619L38x",
        "VDfk3jSzL38y",
        "MuLQhorLL38z",
        "Is5idp_KL380",
        "MKWrsPmyL381",
        "g-V-n0wQL382",
        "39GdI-yLL383",
        "oiLojtGsL385",
        "NhHoOa99L386",
        "dOAXBygpL387",
        "Z2wcwIqzL389",
        "DhcA1O1lL38-",
        "aK15d2w8L39B",
        "KkEYWjF8L39C",
        "h34vyp31L39E",
        "PbOt-0b5L39G",
        "e7u4a3L6L39H",
        "LefIGVzqL39J",
        "SJxncMCXL39L",
        "LLpaZTbpL39M",
        "bB2LviPqL39O",
        "pSYzfkrLL39Q",
        "S3c3Vt2uL39R",
        "hEIl_7uyL39S",
        "ifdxJbXUL39T",
        "i7_jl8JsL39U",
        "QWKiDG7-L39V",
        "LmEvPDPhL39V",
        "Z6QSoLJjL39W",
        "8OO2_BQGL39X",
        "zEnZZpmEL39Y",
        "mSDckoFfL39Z",
        "VA5hLAHuL39a",
        "IlfWQgHTL39b",
        "FYTjBBsVL39e",
        "KWCiD6-fL39g",
        "egTr64DuL39h",
        "5dsfheHEL39i",
        "z7BHCNYyL39k",
        "BS-EZ3pHL39l",
        "17qnf7PRL39n",
        "hnPmW333L39o",
        "yhZKpDMSL39q",
        "XBxnWMpeL39r",
        "lOVMg4jyL39s",
        "OL-2PECBL39v",
        "74fO4AGHL39x",
        "oM9dbtFoL39y",
        "nhD_vog9L39z",
        "L5ouSRA2L390",
        "k3k8K-tXL391",
        "pmhydVV1L392",
        "8nPOTdCjL394",
        "S0THEBuyL396",
        "MAQTNPBoL397",
        "TNIgLtHOL39_",
        "ekavmKmpL3-A",
        "q67KyM7zL3-C",
        "K5l6BIj3L3-D",
        "i5oH-375L3-F",
        "1wTpnu05L3-G",
        "8n6xppFvL3-I",
        "PWGIrYBYL3-J",
        "Nl1rdOzYL3-K",
        "mVjF6g5nL3-K",
        "RASoPHguL3-L",
        "y3xSiNAlL3-M",
        "IcMuYgXnL3-N",
        "R5ejzKhcL3-P",
        "DW8ZZKhTL3-Q",
        "zRxeEJncL3-S",
        "q3nwk_E_L3-S",
        "5m3wYoVlL3-T",
        "zEN7ws7nL3-U",
        "KO5q8-cwL3-V",
        "VU9_Pf9sL3-W",
        "8e59kqLxL3-X",
        "T7GHO9TyL3-Y",
        "DFwrAlSpL3-Z"
      ],
      "include_colab_link": true
    }
  },
  "nbformat": 4,
  "nbformat_minor": 0
}